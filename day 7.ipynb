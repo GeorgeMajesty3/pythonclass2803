{
 "cells": [
  {
   "cell_type": "code",
   "execution_count": 1,
   "id": "d03f5ca4",
   "metadata": {
    "scrolled": true
   },
   "outputs": [
    {
     "data": {
      "text/plain": [
       "72"
      ]
     },
     "execution_count": 1,
     "metadata": {},
     "output_type": "execute_result"
    }
   ],
   "source": [
    "(lambda x,y:x*y)(8,9)"
   ]
  },
  {
   "cell_type": "code",
   "execution_count": 4,
   "id": "d0915036",
   "metadata": {
    "scrolled": true
   },
   "outputs": [
    {
     "name": "stdout",
     "output_type": "stream",
     "text": [
      "please provide your namesamuel\n"
     ]
    },
    {
     "data": {
      "text/plain": [
       "'samuel does not start with upercase'"
      ]
     },
     "execution_count": 4,
     "metadata": {},
     "output_type": "execute_result"
    }
   ],
   "source": [
    " (lambda name:f'{name} starts with uppercase' if name[0] == name[0].upper() else f'{name} does not start with upercase')(input('please provide your name'))"
   ]
  },
  {
   "cell_type": "code",
   "execution_count": 5,
   "id": "3379b5b6",
   "metadata": {},
   "outputs": [],
   "source": [
    "#write an exercise to check if a user password start with an upper case and ends with a digit\n"
   ]
  },
  {
   "cell_type": "code",
   "execution_count": 16,
   "id": "545eac84",
   "metadata": {},
   "outputs": [
    {
     "name": "stdout",
     "output_type": "stream",
     "text": [
      "please provide your passwordsathu3\n"
     ]
    },
    {
     "data": {
      "text/plain": [
       "'Invalid password'"
      ]
     },
     "execution_count": 16,
     "metadata": {},
     "output_type": "execute_result"
    }
   ],
   "source": [
    "(lambda password:f' LOGIN SUCCESSFULL ' if (password[0] == password[0].upper() and( password[-1] == '0') or password[-1]== '1' or password[-1]=='2') else f'Invalid password')(input('please provide your password'))"
   ]
  },
  {
   "cell_type": "code",
   "execution_count": 17,
   "id": "0ea09c10",
   "metadata": {},
   "outputs": [],
   "source": [
    "# map is used for modification of (strings,tuple and range)\n",
    "# filter is used for the filtering and selection of (string ,list,tuple and range)\n"
   ]
  },
  {
   "cell_type": "code",
   "execution_count": 13,
   "id": "172f14f7",
   "metadata": {},
   "outputs": [
    {
     "name": "stdout",
     "output_type": "stream",
     "text": [
      "['PYTHON IS FUN']\n"
     ]
    }
   ],
   "source": [
    "word=['python is fun']\n",
    "update=list(map(lambda x:x.upper(),word))\n",
    "print(update)\n"
   ]
  },
  {
   "cell_type": "code",
   "execution_count": 20,
   "id": "8aa2c7bc",
   "metadata": {},
   "outputs": [
    {
     "name": "stdout",
     "output_type": "stream",
     "text": [
      "[2, 4, 6, 8, 10, 12, 14, 16, 18, 20, 22, 24, 26, 28, 30, 32, 34, 36, 38, 40, 42, 44, 46, 48, 50, 52, 54, 56, 58, 60, 62, 64, 66, 68, 70, 72, 74, 76, 78, 80, 82, 84, 86, 88, 90, 92, 94, 96, 98, 100, 102, 104, 106, 108, 110, 112, 114, 116, 118, 120, 122, 124, 126, 128, 130, 132, 134, 136, 138, 140, 142, 144, 146, 148, 150, 152, 154, 156, 158, 160, 162, 164, 166, 168, 170, 172, 174, 176, 178, 180, 182, 184, 186, 188, 190, 192, 194, 196, 198, 200]\n"
     ]
    }
   ],
   "source": [
    "even = list(filter(lambda x:x %2==0,range(1,201)))\n",
    "print(even)"
   ]
  },
  {
   "cell_type": "code",
   "execution_count": 21,
   "id": "4bcc0e3b",
   "metadata": {},
   "outputs": [
    {
     "name": "stdout",
     "output_type": "stream",
     "text": [
      "[1, 3, 5, 7, 9, 11, 13, 15, 17, 19, 21, 23, 25, 27, 29, 31, 33, 35, 37, 39, 41, 43, 45, 47, 49, 51, 53, 55, 57, 59, 61, 63, 65, 67, 69, 71, 73, 75, 77, 79, 81, 83, 85, 87, 89, 91, 93, 95, 97, 99, 101, 103, 105, 107, 109, 111, 113, 115, 117, 119, 121, 123, 125, 127, 129, 131, 133, 135, 137, 139, 141, 143, 145, 147, 149, 151, 153, 155, 157, 159, 161, 163, 165, 167, 169, 171, 173, 175, 177, 179, 181, 183, 185, 187, 189, 191, 193, 195, 197, 199]\n"
     ]
    }
   ],
   "source": [
    "odd= list(filter(lambda x:x %2==1,range(1,201)))\n",
    "print(odd)"
   ]
  },
  {
   "cell_type": "code",
   "execution_count": 22,
   "id": "c5cc05a2",
   "metadata": {},
   "outputs": [
    {
     "name": "stdout",
     "output_type": "stream",
     "text": [
      "[1, 2, 3, 4, 5, 6, 7, 8, 9, 10, 11, 12, 13, 14, 15, 16, 17, 18, 19, 20, 21, 22, 23, 24, 25, 26, 27, 28, 29, 30, 31, 32, 33, 34, 35, 36, 37, 38, 39, 40, 41, 42, 43, 44, 45, 46, 47, 48, 49, 50, 51, 52, 53, 54, 55]\n"
     ]
    }
   ],
   "source": [
    "input = list(filter(lambda x:x <=55,range(1,201)))\n",
    "print(input)"
   ]
  },
  {
   "cell_type": "code",
   "execution_count": 6,
   "id": "4ea8f940",
   "metadata": {},
   "outputs": [
    {
     "name": "stdout",
     "output_type": "stream",
     "text": [
      "please input passwordMTR\n"
     ]
    },
    {
     "data": {
      "text/plain": [
       "'computer lock'"
      ]
     },
     "execution_count": 6,
     "metadata": {},
     "output_type": "execute_result"
    }
   ],
   "source": [
    "(lambda password:f'Login successful' if password[0] == password [0].lower() else f'computer lock')(input('please input password'))"
   ]
  },
  {
   "cell_type": "code",
   "execution_count": null,
   "id": "aee2ea38",
   "metadata": {},
   "outputs": [],
   "source": []
  }
 ],
 "metadata": {
  "kernelspec": {
   "display_name": "Python 3 (ipykernel)",
   "language": "python",
   "name": "python3"
  },
  "language_info": {
   "codemirror_mode": {
    "name": "ipython",
    "version": 3
   },
   "file_extension": ".py",
   "mimetype": "text/x-python",
   "name": "python",
   "nbconvert_exporter": "python",
   "pygments_lexer": "ipython3",
   "version": "3.9.12"
  }
 },
 "nbformat": 4,
 "nbformat_minor": 5
}
