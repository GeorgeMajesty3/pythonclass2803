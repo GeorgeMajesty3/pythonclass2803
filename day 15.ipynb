{
 "cells": [
  {
   "cell_type": "code",
   "execution_count": 2,
   "id": "b3645184",
   "metadata": {},
   "outputs": [],
   "source": [
    "import pymysql"
   ]
  },
  {
   "cell_type": "code",
   "execution_count": 3,
   "id": "86123eda",
   "metadata": {},
   "outputs": [],
   "source": [
    "mydb=pymysql.connect(\n",
    "    host='localhost',\n",
    "    user ='root',\n",
    "    password='Gem28zel',\n",
    "    database = 'schoolrecordmanagementsystem'\n",
    ")\n",
    "mycursor = mydb.cursor()"
   ]
  },
  {
   "cell_type": "code",
   "execution_count": 4,
   "id": "161c0f92",
   "metadata": {},
   "outputs": [
    {
     "name": "stdout",
     "output_type": "stream",
     "text": [
      "(247,)\n"
     ]
    }
   ],
   "source": [
    "mycursor.execute('select count(famsize) from studentper')\n",
    "for x in mycursor:\n",
    "    print(x)"
   ]
  },
  {
   "cell_type": "code",
   "execution_count": 6,
   "id": "4d13d236",
   "metadata": {},
   "outputs": [
    {
     "name": "stdout",
     "output_type": "stream",
     "text": [
      "(131,)\n"
     ]
    }
   ],
   "source": [
    "mycursor.execute('select count(*) from studentper where Emotions = 2')\n",
    "for x in mycursor:\n",
    "    print(x)"
   ]
  },
  {
   "cell_type": "code",
   "execution_count": 10,
   "id": "804f9b91",
   "metadata": {},
   "outputs": [
    {
     "name": "stdout",
     "output_type": "stream",
     "text": [
      "(6,)\n"
     ]
    }
   ],
   "source": [
    "mycursor.execute('select count(distinct(age)) from studentper ')\n",
    "for x in mycursor:\n",
    "    print(x)"
   ]
  },
  {
   "cell_type": "code",
   "execution_count": 11,
   "id": "26029cd5",
   "metadata": {},
   "outputs": [
    {
     "name": "stdout",
     "output_type": "stream",
     "text": [
      "(13, 'M', 'OTHER', 'OTHER', 84)\n",
      "(12, 'F', 'at_home', 'OTHER', 69)\n",
      "(11, 'F', 'HEALTH', 'ADMIN', 17)\n",
      "(14, 'M', 'ADMIN', 'OTHER', 57)\n",
      "(10, 'M', 'ADMIN', 'TEACHER', 6)\n",
      "(15, 'F', 'HEALTH', 'ADMIN', 14)\n"
     ]
    }
   ],
   "source": [
    "mycursor.execute('select age,sex,Mjob,Fjob, count(*) from studentper group by age')\n",
    "for x in mycursor:\n",
    "    print(x)"
   ]
  },
  {
   "cell_type": "code",
   "execution_count": 12,
   "id": "6daa95a5",
   "metadata": {},
   "outputs": [
    {
     "name": "stdout",
     "output_type": "stream",
     "text": [
      "(Decimal('17127'),)\n"
     ]
    }
   ],
   "source": [
    "mycursor.execute('select sum(JS11st) from studentper ')\n",
    "for x in mycursor:\n",
    "    print(x)"
   ]
  },
  {
   "cell_type": "code",
   "execution_count": 13,
   "id": "140192d7",
   "metadata": {},
   "outputs": [
    {
     "name": "stdout",
     "output_type": "stream",
     "text": [
      "(Decimal('4884'),)\n"
     ]
    }
   ],
   "source": [
    "mycursor.execute('select sum(JS11st) from studentper where age >=14')\n",
    "for x in mycursor:\n",
    "    print(x)"
   ]
  },
  {
   "cell_type": "code",
   "execution_count": 14,
   "id": "9ee77415",
   "metadata": {},
   "outputs": [
    {
     "name": "stdout",
     "output_type": "stream",
     "text": [
      "(13, Decimal('5946'))\n",
      "(12, Decimal('4740'))\n",
      "(11, Decimal('1161'))\n",
      "(14, Decimal('3941'))\n",
      "(10, Decimal('396'))\n",
      "(15, Decimal('943'))\n"
     ]
    }
   ],
   "source": [
    "mycursor.execute('select age, sum(JS11st) from studentper group by age ')\n",
    "for x in mycursor:\n",
    "    print(x)"
   ]
  },
  {
   "cell_type": "code",
   "execution_count": 15,
   "id": "702d2f9c",
   "metadata": {},
   "outputs": [
    {
     "name": "stdout",
     "output_type": "stream",
     "text": [
      "(13, 'OTHER', Decimal('5933'))\n",
      "(12, 'OTHER', Decimal('4804'))\n",
      "(11, 'ADMIN', Decimal('1147'))\n",
      "(14, 'OTHER', Decimal('4063'))\n",
      "(10, 'TEACHER', Decimal('399'))\n",
      "(15, 'ADMIN', Decimal('973'))\n"
     ]
    }
   ],
   "source": [
    "mycursor.execute('select age,Fjob,sum(Js12nd) from studentper group by age ')\n",
    "for x in mycursor:\n",
    "    print(x)"
   ]
  },
  {
   "cell_type": "code",
   "execution_count": 17,
   "id": "5b4be6fb",
   "metadata": {},
   "outputs": [
    {
     "name": "stdout",
     "output_type": "stream",
     "text": [
      "('OTHER', 'OTHER', Decimal('4032'))\n",
      "('at_home', 'OTHER', Decimal('300'))\n",
      "('TEACHER', 'HEALTH', Decimal('1957'))\n",
      "('CIVIL SERVANT', 'POLICE', Decimal('326'))\n",
      "('ADMIN', 'TEACHER', Decimal('5620'))\n",
      "('HEALTH', 'ADMIN', Decimal('2086'))\n",
      "('POLICE', 'OTHER', Decimal('437'))\n",
      "('CRAFT', 'TRADER', Decimal('712'))\n",
      "('BUSINESS', 'HEALTH', Decimal('1296'))\n",
      "('FARMER', 'FARMER', Decimal('553'))\n"
     ]
    }
   ],
   "source": [
    "mycursor.execute('select Mjob,Fjob,sum(Js12nd) from studentper group by Mjob ')\n",
    "for x in mycursor:\n",
    "    print(x)"
   ]
  },
  {
   "cell_type": "code",
   "execution_count": 18,
   "id": "2d0c754f",
   "metadata": {},
   "outputs": [
    {
     "name": "stdout",
     "output_type": "stream",
     "text": [
      "('OTHER', Decimal('3647'))\n",
      "('HEALTH', Decimal('1485'))\n",
      "('POLICE', Decimal('326'))\n",
      "('TEACHER', Decimal('3099'))\n",
      "('ADMIN', Decimal('5643'))\n",
      "('HEALTH RELATED', Decimal('384'))\n",
      "('HOME ', Decimal('420'))\n",
      "('TRADER', Decimal('351'))\n",
      "('NURSE', Decimal('364'))\n",
      "('SURVEYOR', Decimal('356'))\n",
      "('CLEANER', Decimal('279'))\n",
      "('FARMER', Decimal('293'))\n",
      "('BUSINESS', Decimal('672'))\n"
     ]
    }
   ],
   "source": [
    "mycursor.execute('select Fjob,sum(Js12nd) from studentper group by Fjob ')\n",
    "for x in mycursor:\n",
    "    print(x)"
   ]
  },
  {
   "cell_type": "code",
   "execution_count": 19,
   "id": "254f2844",
   "metadata": {},
   "outputs": [
    {
     "name": "stdout",
     "output_type": "stream",
     "text": [
      "(Decimal('69.0648'),)\n"
     ]
    }
   ],
   "source": [
    "mycursor.execute('select avg(Js31st) from studentper  ')\n",
    "for x in mycursor:\n",
    "    print(x)"
   ]
  },
  {
   "cell_type": "code",
   "execution_count": 21,
   "id": "0b0c53e1",
   "metadata": {},
   "outputs": [
    {
     "name": "stdout",
     "output_type": "stream",
     "text": [
      "(Decimal('66.7647'),)\n"
     ]
    }
   ],
   "source": [
    "mycursor.execute('select avg(Js31st) from studentper where age = 11  ')\n",
    "for x in mycursor:\n",
    "    print(x)"
   ]
  },
  {
   "cell_type": "code",
   "execution_count": 22,
   "id": "0471c5ee",
   "metadata": {},
   "outputs": [
    {
     "name": "stdout",
     "output_type": "stream",
     "text": [
      "(13, Decimal('71.3690'))\n",
      "(12, Decimal('70.1304'))\n",
      "(11, Decimal('68.0588'))\n",
      "(14, Decimal('70.7719'))\n",
      "(10, Decimal('68.5000'))\n",
      "(15, Decimal('69.7143'))\n"
     ]
    }
   ],
   "source": [
    "mycursor.execute('select age,avg(Js32nd) from studentper group by age  ')\n",
    "for x in mycursor:\n",
    "    print(x)"
   ]
  },
  {
   "cell_type": "code",
   "execution_count": 28,
   "id": "1f2e94bd",
   "metadata": {},
   "outputs": [
    {
     "name": "stdout",
     "output_type": "stream",
     "text": [
      "(15,)\n"
     ]
    }
   ],
   "source": [
    "mycursor.execute('select max(age) from studentper  ')\n",
    "for x in mycursor:\n",
    "    print(x)"
   ]
  },
  {
   "cell_type": "code",
   "execution_count": 26,
   "id": "b2a2f281",
   "metadata": {},
   "outputs": [
    {
     "name": "stdout",
     "output_type": "stream",
     "text": [
      "(15,)\n"
     ]
    }
   ],
   "source": [
    "mycursor.execute('select max(age) from studentper where JS11st >= 85  ')\n",
    "for x in mycursor:\n",
    "    print(x)"
   ]
  },
  {
   "cell_type": "code",
   "execution_count": 27,
   "id": "72b5c7a8",
   "metadata": {},
   "outputs": [
    {
     "name": "stdout",
     "output_type": "stream",
     "text": [
      "('OTHER', 15)\n",
      "('at_home', 12)\n",
      "('TEACHER', 14)\n",
      "('CIVIL SERVANT', 12)\n",
      "('ADMIN', 14)\n",
      "('HEALTH', 15)\n",
      "('POLICE', 14)\n",
      "('CRAFT', 14)\n",
      "('BUSINESS', 14)\n",
      "('FARMER', 14)\n"
     ]
    }
   ],
   "source": [
    "mycursor.execute('select Mjob,max(age) from studentper group by Mjob ')\n",
    "for x in mycursor:\n",
    "    print(x)"
   ]
  },
  {
   "cell_type": "code",
   "execution_count": 29,
   "id": "a187d6ee",
   "metadata": {},
   "outputs": [
    {
     "name": "stdout",
     "output_type": "stream",
     "text": [
      "(10,)\n"
     ]
    }
   ],
   "source": [
    "mycursor.execute('select min(age) from studentper  ')\n",
    "for x in mycursor:\n",
    "    print(x)"
   ]
  },
  {
   "cell_type": "code",
   "execution_count": 30,
   "id": "8884ad1c",
   "metadata": {},
   "outputs": [
    {
     "name": "stdout",
     "output_type": "stream",
     "text": [
      "('OTHER', 12)\n",
      "('at_home', 12)\n",
      "('TEACHER', 11)\n",
      "('CIVIL SERVANT', 10)\n",
      "('ADMIN', 10)\n",
      "('HEALTH', 11)\n",
      "('POLICE', 13)\n",
      "('CRAFT', 13)\n",
      "('BUSINESS', 13)\n",
      "('FARMER', 13)\n"
     ]
    }
   ],
   "source": [
    "mycursor.execute('select Mjob,min(age) from studentper group by Mjob ')\n",
    "for x in mycursor:\n",
    "    print(x)"
   ]
  },
  {
   "cell_type": "code",
   "execution_count": 34,
   "id": "4db5fd53",
   "metadata": {},
   "outputs": [
    {
     "name": "stdout",
     "output_type": "stream",
     "text": [
      "('M', 13, 'RURAL', 'GT3', 'T', 1, 0, 'OTHER', 'OTHER', 'mother', 3, 2, 'no', 4, 'no', 1, 'yes', 'yes', 'no', 68, 69, 70, 71, 72, 69, 72, 70)\n"
     ]
    }
   ],
   "source": [
    "mycursor.execute('select * from studentper limit 1 ')\n",
    "for x in mycursor:\n",
    "    print(x)"
   ]
  },
  {
   "cell_type": "code",
   "execution_count": 35,
   "id": "cddef9d9",
   "metadata": {},
   "outputs": [
    {
     "name": "stdout",
     "output_type": "stream",
     "text": [
      "('M', 15, 'URBAN', 'LE3', 'A', 1, 0, 'OTHER', 'ADMIN', 'mother', 1, 0, 'no', 5, 'yes', 2, 'yes', 'no', 'no', 66, 76, 87, 82, 85, 69, 68, 81)\n"
     ]
    }
   ],
   "source": [
    "mycursor.execute('select * from studentper order by age desc limit 1 ')\n",
    "for x in mycursor:\n",
    "    print(x)"
   ]
  },
  {
   "cell_type": "code",
   "execution_count": null,
   "id": "aaa0db2a",
   "metadata": {},
   "outputs": [],
   "source": []
  }
 ],
 "metadata": {
  "kernelspec": {
   "display_name": "Python 3 (ipykernel)",
   "language": "python",
   "name": "python3"
  },
  "language_info": {
   "codemirror_mode": {
    "name": "ipython",
    "version": 3
   },
   "file_extension": ".py",
   "mimetype": "text/x-python",
   "name": "python",
   "nbconvert_exporter": "python",
   "pygments_lexer": "ipython3",
   "version": "3.9.12"
  }
 },
 "nbformat": 4,
 "nbformat_minor": 5
}
