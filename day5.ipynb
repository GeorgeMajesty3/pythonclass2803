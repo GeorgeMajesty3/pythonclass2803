{
 "cells": [
  {
   "cell_type": "code",
   "execution_count": 1,
   "metadata": {},
   "outputs": [
    {
     "name": "stdout",
     "output_type": "stream",
     "text": [
      "provide your number:4\n",
      "4 * 1 = 4\n",
      "4 * 2 = 8\n",
      "4 * 3 = 12\n",
      "4 * 4 = 16\n",
      "4 * 5 = 20\n",
      "4 * 6 = 24\n",
      "4 * 7 = 28\n",
      "4 * 8 = 32\n",
      "4 * 9 = 36\n",
      "4 * 10 = 40\n",
      "4 * 11 = 44\n",
      "4 * 12 = 48\n",
      "4 * 13 = 52\n",
      "4 * 14 = 56\n",
      "4 * 15 = 60\n",
      "4 * 16 = 64\n",
      "4 * 17 = 68\n",
      "4 * 18 = 72\n",
      "4 * 19 = 76\n",
      "4 * 20 = 80\n"
     ]
    }
   ],
   "source": [
    "num = int(input('provide your number:'))\n",
    "for i in range(1,21):\n",
    "    print(f'{num} * {i} = {num*i}')"
   ]
  },
  {
   "cell_type": "code",
   "execution_count": 9,
   "metadata": {},
   "outputs": [
    {
     "name": "stdout",
     "output_type": "stream",
     "text": [
      "james :: {'maths': 90, 'English': 67, 'Physics': 70, 'chemisry': 55}\n",
      "samuel :: {'maths': 70, 'English': 37, 'Physics': 70, 'chemisry': 55}\n",
      "majesty :: {'maths': 90, 'English': 67, 'Physics': 70, 'chemisry': 55}\n",
      "elijah :: {'maths': 90, 'English': 67, 'Physics': 70, 'chemisry': 55}\n",
      "john :: {'maths': 90, 'English': 67, 'Physics': 70, 'chemisry': 55}\n"
     ]
    }
   ],
   "source": [
    "students_records = {\n",
    "    'james':{'maths':90,'English':67,'Physics':70,'chemisry':55},\n",
    "    'samuel':{'maths':70,'English':37,'Physics':70,'chemisry':55},\n",
    "    'majesty':{'maths':90,'English':67,'Physics':70,'chemisry':55},\n",
    "    'elijah':{'maths':90,'English':67,'Physics':70,'chemisry':55},\n",
    "    'john':{'maths':90,'English':67,'Physics':70,'chemisry':55},\n",
    "}\n",
    "for keys,values in students_records.items():\n",
    "    print(f'{keys} :: {values}')"
   ]
  },
  {
   "cell_type": "code",
   "execution_count": 17,
   "metadata": {},
   "outputs": [
    {
     "name": "stdout",
     "output_type": "stream",
     "text": [
      "please provide your name to access your resultmajesty\n",
      "congratulations your score are as follows {'maths': 90, 'English': 67, 'Physics': 70, 'chemisry': 55}\n"
     ]
    }
   ],
   "source": [
    "students_records = {\n",
    "    'james':{'maths':90,'English':67,'Physics':70,'chemisry':55},\n",
    "    'samuel':{'maths':70,'English':37,'Physics':70,'chemisry':55},\n",
    "    'majesty':{'maths':90,'English':67,'Physics':70,'chemisry':55},\n",
    "    'elijah':{'maths':90,'English':67,'Physics':70,'chemisry':55},\n",
    "    'john':{'maths':90,'English':67,'Physics':70,'chemisry':55},\n",
    "}\n",
    "name = input('please provide your name to access your result')\n",
    "for keys in students_records:\n",
    "    if name == keys:\n",
    "        print(f'congratulations your score are as follows {students_records[keys]}')\n",
    "        break\n",
    "if name != keys:  \n",
    "    print(\"Record not found\")\n"
   ]
  },
  {
   "cell_type": "code",
   "execution_count": 18,
   "metadata": {},
   "outputs": [
    {
     "name": "stdout",
     "output_type": "stream",
     "text": [
      "please provide your name to access your resultmajesty\n",
      "congratulations your score are as follows {'maths': 90, 'English': 67, 'Physics': 70, 'chemisry': 55}\n",
      "Record not found\n"
     ]
    }
   ],
   "source": [
    "students_records = {\n",
    "    'james':{'maths':90,'English':67,'Physics':70,'chemisry':55},\n",
    "    'samuel':{'maths':70,'English':37,'Physics':70,'chemisry':55},\n",
    "    'majesty':{'maths':90,'English':67,'Physics':70,'chemisry':55},\n",
    "    'elijah':{'maths':90,'English':67,'Physics':70,'chemisry':55},\n",
    "    'john':{'maths':90,'English':67,'Physics':70,'chemisry':55},\n",
    "}\n",
    "name = input('please provide your name to access your result')\n",
    "for keys in students_records:\n",
    "    if name == keys:\n",
    "        print(f'congratulations your score are as follows {students_records[keys]}')\n",
    "        continue\n",
    "if name != keys:  \n",
    "    print(\"Record not found\")\n"
   ]
  },
  {
   "cell_type": "code",
   "execution_count": 1,
   "metadata": {},
   "outputs": [
    {
     "name": "stdout",
     "output_type": "stream",
     "text": [
      "please provide a number:34\n",
      "the sqrt of 34 is 5.830951894845301\n",
      "please provide a number:45\n",
      "the sqrt of 45 is 6.708203932499369\n",
      "please provide a number:0\n"
     ]
    }
   ],
   "source": [
    "import math\n",
    "num = int(input('please provide a number:'))\n",
    "counter = 1\n",
    "while num != 0:\n",
    "    print(f'the sqrt of {num} is {math.sqrt(num)}')\n",
    "    num = int(input('please provide a number:'))\n",
    "    counter = counter + 1      "
   ]
  },
  {
   "cell_type": "code",
   "execution_count": 4,
   "metadata": {},
   "outputs": [
    {
     "name": "stdout",
     "output_type": "stream",
     "text": [
      "[59, 50, 56, 64, 48, 62, 65, 49, 46, 63, 74, 65, 50, 58, 58, 52, 46, 77, 60, 74, 52, 64, 80, 61, 69, 62, 62, 66, 45, 65, 56, 58, 50, 80, 49, 68, 47, 55, 57, 57, 73, 62, 60, 48, 62, 48, 67, 78, 76, 47]\n"
     ]
    }
   ],
   "source": [
    "import random\n",
    "numbers = []\n",
    "counter = 1\n",
    "while counter <= 50:\n",
    "    num = random.randint(45,80)\n",
    "    numbers.append(num)\n",
    "    counter = counter + 1\n",
    "print(numbers)"
   ]
  },
  {
   "cell_type": "code",
   "execution_count": 5,
   "metadata": {},
   "outputs": [
    {
     "data": {
      "text/plain": [
       "50"
      ]
     },
     "execution_count": 5,
     "metadata": {},
     "output_type": "execute_result"
    }
   ],
   "source": [
    "len(numbers)"
   ]
  },
  {
   "cell_type": "code",
   "execution_count": null,
   "metadata": {},
   "outputs": [],
   "source": []
  }
 ],
 "metadata": {
  "kernelspec": {
   "display_name": "Python 3",
   "language": "python",
   "name": "python3"
  },
  "language_info": {
   "codemirror_mode": {
    "name": "ipython",
    "version": 3
   },
   "file_extension": ".py",
   "mimetype": "text/x-python",
   "name": "python",
   "nbconvert_exporter": "python",
   "pygments_lexer": "ipython3",
   "version": "3.7.3"
  }
 },
 "nbformat": 4,
 "nbformat_minor": 2
}
