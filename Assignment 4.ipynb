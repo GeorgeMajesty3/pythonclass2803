{
 "cells": [
  {
   "cell_type": "code",
   "execution_count": 1,
   "id": "7b2252ef",
   "metadata": {},
   "outputs": [
    {
     "name": "stdout",
     "output_type": "stream",
     "text": [
      "Please input your salary2500\n",
      "Please input your year/years of service2\n",
      "Your salary hasn't changed\n"
     ]
    }
   ],
   "source": [
    "Salary=(int(input('Please input your salary')))\n",
    "Year_of_service=(int(input('Please input your year/years of service' )))\n",
    "Salary_increament=({105/100*Salary})\n",
    "if Year_of_service  >5:\n",
    "    print(f'Your new salary is {Salary_increament}')\n",
    "else:\n",
    "    print(f'Your salary hasn\\'t changed' )"
   ]
  },
  {
   "cell_type": "code",
   "execution_count": 2,
   "id": "2101be69",
   "metadata": {},
   "outputs": [
    {
     "name": "stdout",
     "output_type": "stream",
     "text": [
      "Please input a number2\n",
      "Please input another number4\n",
      "4 is greater than 2\n"
     ]
    }
   ],
   "source": [
    "Value_1=(int(input('Please input a number')))\n",
    "Value_2=(int(input('Please input another number')))\n",
    "if Value_1 >Value_2:\n",
    "    print(f'{Value_1} is greater than {Value_2}')\n",
    "else:\n",
    "    print(f'{Value_2} is greater than {Value_1}')"
   ]
  },
  {
   "cell_type": "code",
   "execution_count": 3,
   "id": "c4c1de07",
   "metadata": {},
   "outputs": [
    {
     "name": "stdout",
     "output_type": "stream",
     "text": [
      "Please input your age4\n",
      "Please input your age6\n",
      "Please input your age12\n",
      "User 3 is the oldest and User 1 is the youngest\n"
     ]
    }
   ],
   "source": [
    "Age_1=(int(input('Please input your age')))\n",
    "Age_2=(int(input('Please input your age')))\n",
    "Age_3=(int(input('Please input your age')))\n",
    "if Age_1> Age_2 and Age_1> Age_3 and Age_2< Age_1 and Age_2< Age_3:\n",
    "    print( f'User 1 is the oldest and User 2 is the youngest')\n",
    "elif Age_1 > Age_2 and Age_1 > Age_3 and Age_3 < Age_1 and Age_3 < Age_2:\n",
    "    print(f'User 1 is the oldest and User 3 is the youngest')\n",
    "elif Age_2> Age_1 and Age_2> Age_3 and Age_1< Age_2 and Age_1< Age_3:\n",
    "    print(f'User 2 is the oldest and User 1 is the youngest')\n",
    "elif Age_2 > Age_1 and Age_2> Age_3 and Age_3< Age_2 and Age_3< Age_1:\n",
    "    print(f'User 2 is the oldest and User 3 is the youngest')    \n",
    "elif Age_3> Age_1 and Age_3> Age_2 and Age_1< Age_2 and Age_1< Age_3:\n",
    "    print(f'User 3 is the oldest and User 1 is the youngest')\n",
    "else:\n",
    "    print(f'User 3 is the oldest and User 2 is the youngest')"
   ]
  },
  {
   "cell_type": "code",
   "execution_count": 2,
   "id": "3decac5f",
   "metadata": {},
   "outputs": [
    {
     "name": "stdout",
     "output_type": "stream",
     "text": [
      "Please input the total number of classes 15\n",
      "Please input the total number of classes attended by you4\n",
      "Unfortunately, you would not be able to write this examination\n"
     ]
    }
   ],
   "source": [
    "Held=(int(input('Please input the total number of classes ')))\n",
    "Attended=(int(input('Please input the total number of classes attended by you')))\n",
    "Attendance_percentage=(Attended/Held*100)\n",
    "if Attendance_percentage >= 75:\n",
    "    print(f'I wish you good luck in your examination')\n",
    "else:\n",
    "    print(f'Unfortunately, you would not be able to write this examination')"
   ]
  },
  {
   "cell_type": "code",
   "execution_count": null,
   "id": "6352b0ae",
   "metadata": {},
   "outputs": [],
   "source": [
    "number_of_classes held = int(input('please provide a number'))\n",
    "number_of_classe_attended = "
   ]
  },
  {
   "cell_type": "code",
   "execution_count": 61,
   "id": "726d4af4",
   "metadata": {},
   "outputs": [
    {
     "name": "stdout",
     "output_type": "stream",
     "text": [
      "Please input your age12\n",
      "M or FM\n",
      "Y or NN\n",
      "ERROR\n"
     ]
    }
   ],
   "source": [
    "Age=(int(input('Please input your age')))\n",
    "Sex=(input('M or F'))\n",
    "Marital_Status=(input('Y or N'))\n",
    "if Sex=='F':\n",
    "    print('You will only be able to work in an urban area' )\n",
    "elif Sex=='M' and Age>20 and Age<40:\n",
    "    print('You can work in both urban and rural areas')\n",
    "elif Sex=='M' and Age<60 and Age>40:\n",
    "    print('You will only be able to work in an urban area')\n",
    "else:\n",
    "    print(\"ERROR\")"
   ]
  },
  {
   "cell_type": "code",
   "execution_count": null,
   "id": "cea0505a",
   "metadata": {},
   "outputs": [],
   "source": []
  }
 ],
 "metadata": {
  "kernelspec": {
   "display_name": "Python 3 (ipykernel)",
   "language": "python",
   "name": "python3"
  },
  "language_info": {
   "codemirror_mode": {
    "name": "ipython",
    "version": 3
   },
   "file_extension": ".py",
   "mimetype": "text/x-python",
   "name": "python",
   "nbconvert_exporter": "python",
   "pygments_lexer": "ipython3",
   "version": "3.9.12"
  }
 },
 "nbformat": 4,
 "nbformat_minor": 5
}
