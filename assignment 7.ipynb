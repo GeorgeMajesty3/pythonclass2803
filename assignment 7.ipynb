{
 "cells": [
  {
   "cell_type": "code",
   "execution_count": 1,
   "id": "b914918e",
   "metadata": {},
   "outputs": [],
   "source": [
    "import pymysql"
   ]
  },
  {
   "cell_type": "code",
   "execution_count": 3,
   "id": "9ddfe005",
   "metadata": {},
   "outputs": [],
   "source": [
    "mydb=pymysql.connect(\n",
    "host='localhost',\n",
    "user='root',\n",
    "password='Gem28zel'\n",
    ")\n",
    "mycursor=mydb.cursor()"
   ]
  },
  {
   "cell_type": "code",
   "execution_count": 8,
   "id": "83cddec3",
   "metadata": {},
   "outputs": [
    {
     "ename": "ProgrammingError",
     "evalue": "(1007, \"Can't create database 'storemanagementsystem'; database exists\")",
     "output_type": "error",
     "traceback": [
      "\u001b[1;31m---------------------------------------------------------------------------\u001b[0m",
      "\u001b[1;31mProgrammingError\u001b[0m                          Traceback (most recent call last)",
      "Input \u001b[1;32mIn [8]\u001b[0m, in \u001b[0;36m<cell line: 1>\u001b[1;34m()\u001b[0m\n\u001b[1;32m----> 1\u001b[0m \u001b[43mmycursor\u001b[49m\u001b[38;5;241;43m.\u001b[39;49m\u001b[43mexecute\u001b[49m\u001b[43m(\u001b[49m\u001b[38;5;124;43m'\u001b[39;49m\u001b[38;5;124;43mcreate database storemanagementsystem\u001b[39;49m\u001b[38;5;124;43m'\u001b[39;49m\u001b[43m)\u001b[49m\n",
      "File \u001b[1;32m~\\anaconda3\\lib\\site-packages\\pymysql\\cursors.py:148\u001b[0m, in \u001b[0;36mCursor.execute\u001b[1;34m(self, query, args)\u001b[0m\n\u001b[0;32m    144\u001b[0m     \u001b[38;5;28;01mpass\u001b[39;00m\n\u001b[0;32m    146\u001b[0m query \u001b[38;5;241m=\u001b[39m \u001b[38;5;28mself\u001b[39m\u001b[38;5;241m.\u001b[39mmogrify(query, args)\n\u001b[1;32m--> 148\u001b[0m result \u001b[38;5;241m=\u001b[39m \u001b[38;5;28;43mself\u001b[39;49m\u001b[38;5;241;43m.\u001b[39;49m\u001b[43m_query\u001b[49m\u001b[43m(\u001b[49m\u001b[43mquery\u001b[49m\u001b[43m)\u001b[49m\n\u001b[0;32m    149\u001b[0m \u001b[38;5;28mself\u001b[39m\u001b[38;5;241m.\u001b[39m_executed \u001b[38;5;241m=\u001b[39m query\n\u001b[0;32m    150\u001b[0m \u001b[38;5;28;01mreturn\u001b[39;00m result\n",
      "File \u001b[1;32m~\\anaconda3\\lib\\site-packages\\pymysql\\cursors.py:310\u001b[0m, in \u001b[0;36mCursor._query\u001b[1;34m(self, q)\u001b[0m\n\u001b[0;32m    308\u001b[0m \u001b[38;5;28mself\u001b[39m\u001b[38;5;241m.\u001b[39m_last_executed \u001b[38;5;241m=\u001b[39m q\n\u001b[0;32m    309\u001b[0m \u001b[38;5;28mself\u001b[39m\u001b[38;5;241m.\u001b[39m_clear_result()\n\u001b[1;32m--> 310\u001b[0m \u001b[43mconn\u001b[49m\u001b[38;5;241;43m.\u001b[39;49m\u001b[43mquery\u001b[49m\u001b[43m(\u001b[49m\u001b[43mq\u001b[49m\u001b[43m)\u001b[49m\n\u001b[0;32m    311\u001b[0m \u001b[38;5;28mself\u001b[39m\u001b[38;5;241m.\u001b[39m_do_get_result()\n\u001b[0;32m    312\u001b[0m \u001b[38;5;28;01mreturn\u001b[39;00m \u001b[38;5;28mself\u001b[39m\u001b[38;5;241m.\u001b[39mrowcount\n",
      "File \u001b[1;32m~\\anaconda3\\lib\\site-packages\\pymysql\\connections.py:548\u001b[0m, in \u001b[0;36mConnection.query\u001b[1;34m(self, sql, unbuffered)\u001b[0m\n\u001b[0;32m    546\u001b[0m     sql \u001b[38;5;241m=\u001b[39m sql\u001b[38;5;241m.\u001b[39mencode(\u001b[38;5;28mself\u001b[39m\u001b[38;5;241m.\u001b[39mencoding, \u001b[38;5;124m\"\u001b[39m\u001b[38;5;124msurrogateescape\u001b[39m\u001b[38;5;124m\"\u001b[39m)\n\u001b[0;32m    547\u001b[0m \u001b[38;5;28mself\u001b[39m\u001b[38;5;241m.\u001b[39m_execute_command(COMMAND\u001b[38;5;241m.\u001b[39mCOM_QUERY, sql)\n\u001b[1;32m--> 548\u001b[0m \u001b[38;5;28mself\u001b[39m\u001b[38;5;241m.\u001b[39m_affected_rows \u001b[38;5;241m=\u001b[39m \u001b[38;5;28;43mself\u001b[39;49m\u001b[38;5;241;43m.\u001b[39;49m\u001b[43m_read_query_result\u001b[49m\u001b[43m(\u001b[49m\u001b[43munbuffered\u001b[49m\u001b[38;5;241;43m=\u001b[39;49m\u001b[43munbuffered\u001b[49m\u001b[43m)\u001b[49m\n\u001b[0;32m    549\u001b[0m \u001b[38;5;28;01mreturn\u001b[39;00m \u001b[38;5;28mself\u001b[39m\u001b[38;5;241m.\u001b[39m_affected_rows\n",
      "File \u001b[1;32m~\\anaconda3\\lib\\site-packages\\pymysql\\connections.py:775\u001b[0m, in \u001b[0;36mConnection._read_query_result\u001b[1;34m(self, unbuffered)\u001b[0m\n\u001b[0;32m    773\u001b[0m \u001b[38;5;28;01melse\u001b[39;00m:\n\u001b[0;32m    774\u001b[0m     result \u001b[38;5;241m=\u001b[39m MySQLResult(\u001b[38;5;28mself\u001b[39m)\n\u001b[1;32m--> 775\u001b[0m     \u001b[43mresult\u001b[49m\u001b[38;5;241;43m.\u001b[39;49m\u001b[43mread\u001b[49m\u001b[43m(\u001b[49m\u001b[43m)\u001b[49m\n\u001b[0;32m    776\u001b[0m \u001b[38;5;28mself\u001b[39m\u001b[38;5;241m.\u001b[39m_result \u001b[38;5;241m=\u001b[39m result\n\u001b[0;32m    777\u001b[0m \u001b[38;5;28;01mif\u001b[39;00m result\u001b[38;5;241m.\u001b[39mserver_status \u001b[38;5;129;01mis\u001b[39;00m \u001b[38;5;129;01mnot\u001b[39;00m \u001b[38;5;28;01mNone\u001b[39;00m:\n",
      "File \u001b[1;32m~\\anaconda3\\lib\\site-packages\\pymysql\\connections.py:1156\u001b[0m, in \u001b[0;36mMySQLResult.read\u001b[1;34m(self)\u001b[0m\n\u001b[0;32m   1154\u001b[0m \u001b[38;5;28;01mdef\u001b[39;00m \u001b[38;5;21mread\u001b[39m(\u001b[38;5;28mself\u001b[39m):\n\u001b[0;32m   1155\u001b[0m     \u001b[38;5;28;01mtry\u001b[39;00m:\n\u001b[1;32m-> 1156\u001b[0m         first_packet \u001b[38;5;241m=\u001b[39m \u001b[38;5;28;43mself\u001b[39;49m\u001b[38;5;241;43m.\u001b[39;49m\u001b[43mconnection\u001b[49m\u001b[38;5;241;43m.\u001b[39;49m\u001b[43m_read_packet\u001b[49m\u001b[43m(\u001b[49m\u001b[43m)\u001b[49m\n\u001b[0;32m   1158\u001b[0m         \u001b[38;5;28;01mif\u001b[39;00m first_packet\u001b[38;5;241m.\u001b[39mis_ok_packet():\n\u001b[0;32m   1159\u001b[0m             \u001b[38;5;28mself\u001b[39m\u001b[38;5;241m.\u001b[39m_read_ok_packet(first_packet)\n",
      "File \u001b[1;32m~\\anaconda3\\lib\\site-packages\\pymysql\\connections.py:725\u001b[0m, in \u001b[0;36mConnection._read_packet\u001b[1;34m(self, packet_type)\u001b[0m\n\u001b[0;32m    723\u001b[0m     \u001b[38;5;28;01mif\u001b[39;00m \u001b[38;5;28mself\u001b[39m\u001b[38;5;241m.\u001b[39m_result \u001b[38;5;129;01mis\u001b[39;00m \u001b[38;5;129;01mnot\u001b[39;00m \u001b[38;5;28;01mNone\u001b[39;00m \u001b[38;5;129;01mand\u001b[39;00m \u001b[38;5;28mself\u001b[39m\u001b[38;5;241m.\u001b[39m_result\u001b[38;5;241m.\u001b[39munbuffered_active \u001b[38;5;129;01mis\u001b[39;00m \u001b[38;5;28;01mTrue\u001b[39;00m:\n\u001b[0;32m    724\u001b[0m         \u001b[38;5;28mself\u001b[39m\u001b[38;5;241m.\u001b[39m_result\u001b[38;5;241m.\u001b[39munbuffered_active \u001b[38;5;241m=\u001b[39m \u001b[38;5;28;01mFalse\u001b[39;00m\n\u001b[1;32m--> 725\u001b[0m     \u001b[43mpacket\u001b[49m\u001b[38;5;241;43m.\u001b[39;49m\u001b[43mraise_for_error\u001b[49m\u001b[43m(\u001b[49m\u001b[43m)\u001b[49m\n\u001b[0;32m    726\u001b[0m \u001b[38;5;28;01mreturn\u001b[39;00m packet\n",
      "File \u001b[1;32m~\\anaconda3\\lib\\site-packages\\pymysql\\protocol.py:221\u001b[0m, in \u001b[0;36mMysqlPacket.raise_for_error\u001b[1;34m(self)\u001b[0m\n\u001b[0;32m    219\u001b[0m \u001b[38;5;28;01mif\u001b[39;00m DEBUG:\n\u001b[0;32m    220\u001b[0m     \u001b[38;5;28mprint\u001b[39m(\u001b[38;5;124m\"\u001b[39m\u001b[38;5;124merrno =\u001b[39m\u001b[38;5;124m\"\u001b[39m, errno)\n\u001b[1;32m--> 221\u001b[0m \u001b[43merr\u001b[49m\u001b[38;5;241;43m.\u001b[39;49m\u001b[43mraise_mysql_exception\u001b[49m\u001b[43m(\u001b[49m\u001b[38;5;28;43mself\u001b[39;49m\u001b[38;5;241;43m.\u001b[39;49m\u001b[43m_data\u001b[49m\u001b[43m)\u001b[49m\n",
      "File \u001b[1;32m~\\anaconda3\\lib\\site-packages\\pymysql\\err.py:143\u001b[0m, in \u001b[0;36mraise_mysql_exception\u001b[1;34m(data)\u001b[0m\n\u001b[0;32m    141\u001b[0m \u001b[38;5;28;01mif\u001b[39;00m errorclass \u001b[38;5;129;01mis\u001b[39;00m \u001b[38;5;28;01mNone\u001b[39;00m:\n\u001b[0;32m    142\u001b[0m     errorclass \u001b[38;5;241m=\u001b[39m InternalError \u001b[38;5;28;01mif\u001b[39;00m errno \u001b[38;5;241m<\u001b[39m \u001b[38;5;241m1000\u001b[39m \u001b[38;5;28;01melse\u001b[39;00m OperationalError\n\u001b[1;32m--> 143\u001b[0m \u001b[38;5;28;01mraise\u001b[39;00m errorclass(errno, errval)\n",
      "\u001b[1;31mProgrammingError\u001b[0m: (1007, \"Can't create database 'storemanagementsystem'; database exists\")"
     ]
    }
   ],
   "source": [
    "mycursor.execute('create database storemanagementsystem')"
   ]
  },
  {
   "cell_type": "code",
   "execution_count": 7,
   "id": "caaf1b05",
   "metadata": {},
   "outputs": [
    {
     "name": "stdout",
     "output_type": "stream",
     "text": [
      "('greenwayschoolmanagementsystem',)\n",
      "('information_schema',)\n",
      "('mysql',)\n",
      "('performance_schema',)\n",
      "('sakila',)\n",
      "('storemanagementsystem',)\n",
      "('sys',)\n",
      "('world',)\n"
     ]
    }
   ],
   "source": [
    "mycursor.execute('show databases')\n",
    "for x in mycursor:\n",
    "    print(x)"
   ]
  },
  {
   "cell_type": "code",
   "execution_count": 9,
   "id": "827ffed2",
   "metadata": {},
   "outputs": [],
   "source": [
    "mydb=pymysql.connect(\n",
    "  host='localhost',\n",
    "  user='root',\n",
    "  password='Gem28zel',\n",
    "  database='storemanagementsystem'\n",
    ")\n",
    "mycursor=mydb.cursor()"
   ]
  },
  {
   "cell_type": "code",
   "execution_count": 10,
   "id": "f9f18a80",
   "metadata": {},
   "outputs": [
    {
     "data": {
      "text/plain": [
       "0"
      ]
     },
     "execution_count": 10,
     "metadata": {},
     "output_type": "execute_result"
    }
   ],
   "source": [
    "mycursor.execute('show tables')"
   ]
  },
  {
   "cell_type": "code",
   "execution_count": 15,
   "id": "31ca8ba2",
   "metadata": {
    "scrolled": true
   },
   "outputs": [
    {
     "data": {
      "text/plain": [
       "0"
      ]
     },
     "execution_count": 15,
     "metadata": {},
     "output_type": "execute_result"
    }
   ],
   "source": [
    "mycursor.execute('create table Electronicdetails(id int not null primary key,ItemName varchar(255) not null,ItemSerial_Number varchar(10) not null,Itemtype varchar(255) not null,ItemBrand varchar(230) not null,ItemQuantity varchar(10) not null )')"
   ]
  },
  {
   "cell_type": "code",
   "execution_count": 23,
   "id": "199c40c2",
   "metadata": {
    "scrolled": true
   },
   "outputs": [],
   "source": [
    "sql = 'insert into Electronicdetails(ID,ItemName,ItemSerial_number,Itemtype,ItemBrand,ItemQuantity) values(%s,%s,%s,%s,%s,%s)'\n",
    "values = [('1', 'Television','42CE890','Smart_Tv','Hisense','8'),\n",
    "         ('2', 'Phones','34HY38904','Smart_phones','Tecno','8'),\n",
    "          ('3', 'Electric Irons','45SE34524','Pressing Iron','LG','6'),\n",
    "         ('4', 'Binatone 4 pro','25SS36754','Smart_Watch','Binatone','3'),\n",
    "         ('5', 'Jam box','67ER23411','Music player','JBL','9'),\n",
    "         ('6', 'Vida Dual game pad','80WT2342R','Gamer pad','Vivo','10'),\n",
    "         ('7', 'G-Tab','23ERE2453','Tablet','Samsung','5'),\n",
    "         ('8', 'Fly-Spy','34TY234W5','Drones','Hisense','22'),\n",
    "         ('9', 'Liberty 4 pro','23WES345T','ear buds','Liberty','15'),\n",
    "         ('10', 'Hp pavillion','TT2345W67','Laptop','Hp','12')]\n",
    "mycursor.executemany(sql,values)\n",
    "mydb.commit()"
   ]
  },
  {
   "cell_type": "code",
   "execution_count": 25,
   "id": "4dae9713",
   "metadata": {},
   "outputs": [
    {
     "data": {
      "text/plain": [
       "0"
      ]
     },
     "execution_count": 25,
     "metadata": {},
     "output_type": "execute_result"
    }
   ],
   "source": [
    "mycursor.execute('create table Weardetails(id int not null primary key,ItemName varchar(255) not null,ItemSerial_Number varchar(10) not null,Itemtype varchar(255) not null,ItemBrand varchar(230) not null,ItemQuantity varchar(10) not null )')"
   ]
  },
  {
   "cell_type": "code",
   "execution_count": 26,
   "id": "1af91c07",
   "metadata": {},
   "outputs": [],
   "source": [
    "sql = 'insert into Weardetails(ID,ItemName,ItemSerial_number,Itemtype,ItemBrand,ItemQuantity) values(%s,%s,%s,%s,%s,%s)'\n",
    "values = [('1', 'Black shirts','42CE890','Shirts','Gucci','8'),\n",
    "         ('2', 'Baggy Trousers','34HY38904','Trousers','Tecno','8'),\n",
    "          ('3', 'Balenciaga','45SE34524','Shoes','Nike','6'),\n",
    "         ('4', 'Hppower','25SS36754','school bags','Eavas','3'),\n",
    "         ('5', 'Foot wears ','67ER23411','socks','Polytech','9'),\n",
    "         ('6', 'Black fits','80WT2342R','Belts','Louis Vuitton','10'),\n",
    "         ('7', 'Bucket cap','23ERE2453','caps','Jordan','5'),\n",
    "         ('8', 'Crocs','34TY234W5','Pams','Dolce and Gabbanna','22'),\n",
    "         ('9', 'phone pouch','23WES345T','covers','Zara','15'),\n",
    "         ('10', 'Hublos','TT2345W67','Watches','Rolex','12')]\n",
    "mycursor.executemany(sql,values)\n",
    "mydb.commit()"
   ]
  },
  {
   "cell_type": "code",
   "execution_count": null,
   "id": "12681c17",
   "metadata": {},
   "outputs": [],
   "source": []
  },
  {
   "cell_type": "code",
   "execution_count": 28,
   "id": "7aa01b3c",
   "metadata": {},
   "outputs": [
    {
     "data": {
      "text/plain": [
       "0"
      ]
     },
     "execution_count": 28,
     "metadata": {},
     "output_type": "execute_result"
    }
   ],
   "source": [
    "mycursor.execute('create table Phonedetails(id int not null primary key,ItemName varchar(255) not null,ItemSerial_Number varchar(10) not null,Itemtype varchar(255) not null,ItemBrand varchar(230) not null,ItemQuantity varchar(10) not null )')"
   ]
  },
  {
   "cell_type": "code",
   "execution_count": 29,
   "id": "5f7ba476",
   "metadata": {},
   "outputs": [],
   "source": [
    "sql = 'insert into Phonedetails(ID,ItemName,ItemSerial_number,Itemtype,ItemBrand,ItemQuantity) values(%s,%s,%s,%s,%s,%s)'\n",
    "values = [('1', 'Pop 5 pro','42CE890','Android','Tecno','8'),\n",
    "         ('2', 'Samsung A21','34HY38904','Android','Samsung','8'),\n",
    "          ('3', 'Iphone 14','45SE34524','IoS','Apple','6'),\n",
    "         ('4', 'Iphone Xr','25SS36754','IOS','Apple','3'),\n",
    "         ('5', 'Spark 8 c','67ER23411','Android','Tecno','9'),\n",
    "         ('6', 'Hot 10','80WT2342R','Android','Infinix','10'),\n",
    "         ('7', 'Camon 19','23ERE2453','Android','Tecno','5'),\n",
    "         ('8', 'S22 Ultra','34TY234W5','Android','Samsung','22'),\n",
    "         ('9', 'Iphone 12 pro max','23WES345T','IOS','Apple','15'),\n",
    "         ('10', 'Iphone 6+','TT2345W67','IOS','Apple','12')]\n",
    "mycursor.executemany(sql,values)\n",
    "mydb.commit()"
   ]
  },
  {
   "cell_type": "code",
   "execution_count": null,
   "id": "b6f0206e",
   "metadata": {},
   "outputs": [],
   "source": []
  },
  {
   "cell_type": "code",
   "execution_count": 30,
   "id": "3ca11acf",
   "metadata": {},
   "outputs": [
    {
     "data": {
      "text/plain": [
       "0"
      ]
     },
     "execution_count": 30,
     "metadata": {},
     "output_type": "execute_result"
    }
   ],
   "source": [
    "mycursor.execute('create table Computerdetails(id int not null primary key,ItemName varchar(255) not null,ItemSerial_Number varchar(10) not null,Itemtype varchar(255) not null,ItemBrand varchar(230) not null,ItemQuantity varchar(10) not null )')"
   ]
  },
  {
   "cell_type": "code",
   "execution_count": 31,
   "id": "09fa67e2",
   "metadata": {},
   "outputs": [],
   "source": [
    "sql = 'insert into Computerdetails(ID,ItemName,ItemSerial_number,Itemtype,ItemBrand,ItemQuantity) values(%s,%s,%s,%s,%s,%s)'\n",
    "values = [('1', 'Television','42CE890','Mac_Os','HiseNse','81'),\n",
    "         ('2', 'AMD Ryzen 7 Pro','34HY38904','ThinkPad','Lenovo','28'),\n",
    "          ('3', 'Elite book','45SE34524','Pavillion','Hp','26'),\n",
    "         ('4', 'Mac_Os 2012','25SS36754','','Appple','31'),\n",
    "         ('5', 'Mac_Os 2010','67ER23411','Mac_os','Apple','92'),\n",
    "         ('6', 'Mac_Os 2020','80WT2342R','Mac_Os','Apple','18'),\n",
    "         ('7', 'Pro book','23ERE2453','Intel','Samsung','45'),\n",
    "         ('8', 'Core i5','34TY234W5','Intel','Dell','25'),\n",
    "         ('9', 'note book','23WES345T','Intel','Asus','35'),\n",
    "         ('10', 'Hp pavillion','TT2345W67','Ryzen','Hp','18')]\n",
    "mycursor.executemany(sql,values)\n",
    "mydb.commit()"
   ]
  },
  {
   "cell_type": "code",
   "execution_count": null,
   "id": "eb787cf1",
   "metadata": {},
   "outputs": [],
   "source": []
  }
 ],
 "metadata": {
  "kernelspec": {
   "display_name": "Python 3 (ipykernel)",
   "language": "python",
   "name": "python3"
  },
  "language_info": {
   "codemirror_mode": {
    "name": "ipython",
    "version": 3
   },
   "file_extension": ".py",
   "mimetype": "text/x-python",
   "name": "python",
   "nbconvert_exporter": "python",
   "pygments_lexer": "ipython3",
   "version": "3.9.12"
  }
 },
 "nbformat": 4,
 "nbformat_minor": 5
}
