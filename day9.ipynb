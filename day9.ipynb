{
 "cells": [
  {
   "cell_type": "code",
   "execution_count": 1,
   "metadata": {},
   "outputs": [
    {
     "name": "stdout",
     "output_type": "stream",
     "text": [
      "please provide first number4\n",
      "please provide second number4\n",
      "please pick your operation(+,-,/,*)-\n",
      "4 - 4 = 0\n"
     ]
    }
   ],
   "source": [
    "try:\n",
    "    num1 = int(input('please provide first number'))\n",
    "    num2 = int(input('please provide second number'))\n",
    "    option = input('please pick your operation(+,-,/,*)')\n",
    "    if option == '+':\n",
    "        print(f'{num1} + {num2} = {num1 + num2}')\n",
    "    elif option == '-':\n",
    "        print(f'{num1} - {num2} = {num1 - num2}')\n",
    "    elif option == '/':    \n",
    "        print(f'{num1} / {num2} = {num1 / num2}')\n",
    "    elif option == '*':\n",
    "        print(f'{num1} * {num2} = {num1 * num2}')\n",
    "except:\n",
    "    print('YOU HAVE ENCOUNTRED ONE OR MORE ERRORS')"
   ]
  },
  {
   "cell_type": "code",
   "execution_count": 5,
   "metadata": {},
   "outputs": [
    {
     "name": "stdout",
     "output_type": "stream",
     "text": [
      "please provide first number4\n",
      "please provide second number6\n",
      "please pick your operation(+,-,/,*)-\n",
      "4 - 6 = -2\n"
     ]
    }
   ],
   "source": [
    "try:\n",
    "    num1 = int(input('please provide first number'))\n",
    "    num2 = int(input('please provide second number'))\n",
    "    option = input('please pick your operation(+,-,/,*)')\n",
    "    if option == '+':\n",
    "        print(f'{num1} + {num2} = {num1 + num2}')\n",
    "    elif option == '-':\n",
    "        print(f'{num1} - {num2} = {num1 - num2}')\n",
    "    elif option == '/':    \n",
    "        print(f'{num1} / {num2} = {num1 / num2}')\n",
    "    elif option == '*':\n",
    "        print(f'{num1} * {num2} = {num1 * num2}')\n",
    "except ValueError:\n",
    "    print('INTEGER VALUE EXPECTED NOT FLOAT OR STRING')\n",
    "except ZeroDivisionError:\n",
    "    print('SORRY YOU CANNOT DIVIDE A NUMBER BY ZERO')\n",
    "except:\n",
    "    print('YOU HAVE ENCOUNTRED ONE OR MORE ERRORS')"
   ]
  },
  {
   "cell_type": "code",
   "execution_count": null,
   "metadata": {},
   "outputs": [],
   "source": [
    "try:\n",
    "    num1 = int(input('please provide first number'))\n",
    "    num2 = int(input('please provide second number'))\n",
    "    option = input('please pick your operation(+,-,/,*)')\n",
    "    if option == '+':\n",
    "        print(f'{num1} + {num2} = {num1 + num2}')\n",
    "    elif option == '-':\n",
    "        print(f'{num1} - {num2} = {num1 - num2}')\n",
    "    elif option == '/':    \n",
    "        print(f'{num1} / {num2} = {num1 / num2}')\n",
    "    elif option == '*':\n",
    "        print(f'{num1} * {num2} = {num1 * num2}')\n",
    "except ValueError:\n",
    "    print('INTEGER VALUE EXPECTED NOT FLOAT OR STRING')\n",
    "except ZeroDivisionError:\n",
    "    print('SORRY YOU CANNOT DIVIDE A NUMBER BY ZERO')\n",
    "except:\n",
    "    print('YOU HAVE ENCOUNTRED ONE OR MORE ERRORS')"
   ]
  },
  {
   "cell_type": "code",
   "execution_count": 32,
   "metadata": {},
   "outputs": [
    {
     "ename": "IndentationError",
     "evalue": "unindent does not match any outer indentation level (<tokenize>, line 15)",
     "output_type": "error",
     "traceback": [
      "\u001b[1;36m  File \u001b[1;32m\"<tokenize>\"\u001b[1;36m, line \u001b[1;32m15\u001b[0m\n\u001b[1;33m    elif choice == '2':\u001b[0m\n\u001b[1;37m    ^\u001b[0m\n\u001b[1;31mIndentationError\u001b[0m\u001b[1;31m:\u001b[0m unindent does not match any outer indentation level\n"
     ]
    }
   ],
   "source": [
    "try:\n",
    "    floor_option = (input('press the desired button to your desired floor:'))\n",
    "    if floor_option == '1':\n",
    "        choice = input('shop1 is on the left, shop2, is on the right, shop3 is opposite the lift')\n",
    "        if choice == 'shop1':\n",
    "            print('please turn left to shop1')\n",
    "        elif choice == '2':\n",
    "            print('please turn right to shop2')\n",
    "        else:\n",
    "            print('walk directly to shop3') \n",
    "    elif floor_option == '2':\n",
    "    choice = input('shop1 is on the left, shop2, is on the right, shop3 is opposite the lift')\n",
    "    if choice == 'shop1':\n",
    "            print('please turn left to shop1')\n",
    "        elif choice == '2':\n",
    "            print('please turn right to shop2')\n",
    "        else:\n",
    "            print('walk directly to shop3')\n",
    "    elif floor_option == '3':\n",
    "    choice = input('shop1 is on the left, shop2, is on the right, shop3 is opposite the lift')\n",
    "    if choice == 'shop1':\n",
    "            print('please turn left to shop1')\n",
    "        elif choice == '2':\n",
    "            print('please turn right to shop2')\n",
    "        else:\n",
    "        print('walk directly to shop3')\n",
    "    elif floor_option == '4':\n",
    "    choice = input('shop1 is on the left, shop2, is on the right, shop3 is opposite the lift')\n",
    "    if choice == 'shop1':\n",
    "            print('please turn left to shop1')\n",
    "        elif choice == '2':\n",
    "            print('please turn right to shop2')\n",
    "        else:\n",
    "            print('walk directly to shop3') \n",
    "    elif floor_option == '5':\n",
    "    choice = input('shop1 is on the left, shop2, is on the right, shop3 is opposite the lift')\n",
    "    if choice == 'shop1':\n",
    "            print('please turn left to shop1')\n",
    "        elif choice == '2':\n",
    "            print('please turn right to shop2')\n",
    "        else:\n",
    "            print('walk directly to shop3') \n",
    "except ValueError:\n",
    "    print('INTEGER VALUE EXPECTED NOT FLOAT OR STRING')\n",
    "except\n",
    "else:\n",
    "    print('SHOP NUMBER NOT AVAILABLE')\n",
    "finally:\n",
    "    print('YOU HAVE REACHED YOUR DESTINATION')\n",
    "    "
   ]
  },
  {
   "cell_type": "code",
   "execution_count": null,
   "metadata": {},
   "outputs": [],
   "source": []
  }
 ],
 "metadata": {
  "kernelspec": {
   "display_name": "Python 3 (ipykernel)",
   "language": "python",
   "name": "python3"
  },
  "language_info": {
   "codemirror_mode": {
    "name": "ipython",
    "version": 3
   },
   "file_extension": ".py",
   "mimetype": "text/x-python",
   "name": "python",
   "nbconvert_exporter": "python",
   "pygments_lexer": "ipython3",
   "version": "3.9.12"
  }
 },
 "nbformat": 4,
 "nbformat_minor": 2
}
