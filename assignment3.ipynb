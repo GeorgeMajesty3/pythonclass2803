{
 "cells": [
  {
   "cell_type": "code",
   "execution_count": 2,
   "id": "4484dab9",
   "metadata": {},
   "outputs": [
    {
     "name": "stdout",
     "output_type": "stream",
     "text": [
      "458.0\n"
     ]
    }
   ],
   "source": [
    "num = 458\n",
    "print(float(num))"
   ]
  },
  {
   "cell_type": "code",
   "execution_count": 10,
   "id": "055c3b01",
   "metadata": {},
   "outputs": [
    {
     "ename": "AttributeError",
     "evalue": "'tuple' object has no attribute 'reverse'",
     "output_type": "error",
     "traceback": [
      "\u001b[1;31m---------------------------------------------------------------------------\u001b[0m",
      "\u001b[1;31mAttributeError\u001b[0m                            Traceback (most recent call last)",
      "Input \u001b[1;32mIn [10]\u001b[0m, in \u001b[0;36m<cell line: 2>\u001b[1;34m()\u001b[0m\n\u001b[0;32m      1\u001b[0m figures \u001b[38;5;241m=\u001b[39m (\u001b[38;5;241m46\u001b[39m,\u001b[38;5;241m53\u001b[39m,\u001b[38;5;241m45\u001b[39m,\u001b[38;5;241m48\u001b[39m,\u001b[38;5;241m55\u001b[39m,\u001b[38;5;241m45\u001b[39m,\u001b[38;5;241m49\u001b[39m,\u001b[38;5;241m51\u001b[39m,\u001b[38;5;241m51\u001b[39m,\u001b[38;5;241m58\u001b[39m,\u001b[38;5;241m50\u001b[39m,\u001b[38;5;241m55\u001b[39m,\u001b[38;5;241m53\u001b[39m,\u001b[38;5;241m57\u001b[39m,\u001b[38;5;241m50\u001b[39m,\u001b[38;5;241m46\u001b[39m,\u001b[38;5;241m55\u001b[39m,\u001b[38;5;241m47\u001b[39m,\u001b[38;5;241m57\u001b[39m,\u001b[38;5;241m55\u001b[39m)\n\u001b[1;32m----> 2\u001b[0m \u001b[43mfigures\u001b[49m\u001b[38;5;241;43m.\u001b[39;49m\u001b[43mreverse\u001b[49m()\n\u001b[0;32m      3\u001b[0m \u001b[38;5;28mprint\u001b[39m(figures)\n",
      "\u001b[1;31mAttributeError\u001b[0m: 'tuple' object has no attribute 'reverse'"
     ]
    }
   ],
   "source": [
    "figures = (46,53,45,48,55,45,49,51,51,58,50,55,53,57,50,46,55,47,57,55)\n",
    "figures.reverse()\n",
    "print(figures)\n"
   ]
  },
  {
   "cell_type": "code",
   "execution_count": 11,
   "id": "8733a8b1",
   "metadata": {},
   "outputs": [
    {
     "name": "stdout",
     "output_type": "stream",
     "text": [
      "58\n"
     ]
    }
   ],
   "source": [
    "numbers = (46,53,45,48,55,45,49,51,51,58,50,55,53,57,50,46,55,47,57,55)\n",
    "print(numbers[9])"
   ]
  },
  {
   "cell_type": "code",
   "execution_count": null,
   "id": "3a2bda06",
   "metadata": {},
   "outputs": [],
   "source": [
    "\n",
    "    "
   ]
  },
  {
   "cell_type": "code",
   "execution_count": null,
   "id": "fd7b1fce",
   "metadata": {},
   "outputs": [],
   "source": []
  },
  {
   "cell_type": "code",
   "execution_count": 16,
   "id": "61d890e0",
   "metadata": {},
   "outputs": [
    {
     "data": {
      "text/plain": [
       "2"
      ]
     },
     "execution_count": 16,
     "metadata": {},
     "output_type": "execute_result"
    }
   ],
   "source": [
    "numbers.count(51)"
   ]
  },
  {
   "cell_type": "code",
   "execution_count": 21,
   "id": "f3d316d4",
   "metadata": {},
   "outputs": [
    {
     "name": "stdout",
     "output_type": "stream",
     "text": [
      "57\n",
      "49\n"
     ]
    }
   ],
   "source": [
    "print(numbers[13])\n",
    "print(numbers[6])"
   ]
  },
  {
   "cell_type": "code",
   "execution_count": null,
   "id": "bd3d3ed1",
   "metadata": {},
   "outputs": [],
   "source": []
  },
  {
   "cell_type": "code",
   "execution_count": null,
   "id": "5629fac9",
   "metadata": {},
   "outputs": [],
   "source": []
  }
 ],
 "metadata": {
  "kernelspec": {
   "display_name": "Python 3 (ipykernel)",
   "language": "python",
   "name": "python3"
  },
  "language_info": {
   "codemirror_mode": {
    "name": "ipython",
    "version": 3
   },
   "file_extension": ".py",
   "mimetype": "text/x-python",
   "name": "python",
   "nbconvert_exporter": "python",
   "pygments_lexer": "ipython3",
   "version": "3.9.12"
  }
 },
 "nbformat": 4,
 "nbformat_minor": 5
}
