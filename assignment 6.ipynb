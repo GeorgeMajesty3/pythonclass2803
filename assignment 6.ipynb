{
 "cells": [
  {
   "cell_type": "code",
   "execution_count": 20,
   "id": "1d0c044f",
   "metadata": {},
   "outputs": [
    {
     "name": "stdout",
     "output_type": "stream",
     "text": [
      "Audi G6 has started\n",
      "None\n",
      "Please input a gear:6\n",
      "Gear placed on reverse\n",
      "None\n",
      "turbo on ready for maximum acceleration\n",
      "None\n",
      "Audi G6 has stopped, simulation over\n",
      "None\n"
     ]
    }
   ],
   "source": [
    "class bike_simulation:\n",
    "    def __init__ (self,brand,model,color,year,speed):\n",
    "        self.brand = brand \n",
    "        self.model = model\n",
    "        self.color = color\n",
    "        self.year = year\n",
    "        self.speed = speed\n",
    "    def start(self):\n",
    "        print(f'{self.brand} {self.model} has started')\n",
    "    def gear(self):\n",
    "        choice = int(input('Please input a gear:'))\n",
    "        if choice == 1:\n",
    "            print('Gear 1 selected')\n",
    "        elif choice == 2:\n",
    "            print('Gear 2 selected')\n",
    "        elif choice == 3:\n",
    "            print('Gear 3 selected')\n",
    "        elif choice == 4:\n",
    "            print('Gear 4 selected')\n",
    "        elif choice == 5:\n",
    "            print('Gear 5 selected')\n",
    "        elif choice == 6:\n",
    "            print('Gear placed on reverse')\n",
    "    def boosters(self,ch): \n",
    "        if ch == 1:\n",
    "            print('turbo on ready for maximum acceleration')\n",
    "        elif ch == 2:\n",
    "            print('turbo off')\n",
    "        else:\n",
    "            print('turbo option not recognize')\n",
    "    def stop(self):\n",
    "        print(f'{self.brand} {self.model} has stopped, simulation over')\n",
    "bike = bike_simulation('Audi','G6','Black',2019,300)\n",
    "print(bike.start())\n",
    "print(bike.gear()) \n",
    "print(bike.boosters(1))\n",
    "print(bike.stop())"
   ]
  },
  {
   "cell_type": "code",
   "execution_count": null,
   "id": "8afbff22",
   "metadata": {},
   "outputs": [],
   "source": [
    "class Marvel_character:\n",
    "    attr1 = 'larva girl'\n",
    "    attr2 = 'july 3 2006'\n",
    "    attr3 = 'volcanic breath'\n",
    "    attr4 = 'fast reflexes'\n",
    "obj = Marvel_character\n",
    "um"
   ]
  },
  {
   "cell_type": "code",
   "execution_count": null,
   "id": "7c9519e3",
   "metadata": {},
   "outputs": [],
   "source": []
  }
 ],
 "metadata": {
  "kernelspec": {
   "display_name": "Python 3 (ipykernel)",
   "language": "python",
   "name": "python3"
  },
  "language_info": {
   "codemirror_mode": {
    "name": "ipython",
    "version": 3
   },
   "file_extension": ".py",
   "mimetype": "text/x-python",
   "name": "python",
   "nbconvert_exporter": "python",
   "pygments_lexer": "ipython3",
   "version": "3.9.12"
  }
 },
 "nbformat": 4,
 "nbformat_minor": 5
}
