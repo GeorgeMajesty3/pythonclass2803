{
 "cells": [
  {
   "cell_type": "code",
   "execution_count": 3,
   "id": "5a76db6c",
   "metadata": {},
   "outputs": [
    {
     "name": "stdout",
     "output_type": "stream",
     "text": [
      "majesty\n",
      "24\n",
      "28.3\n",
      "False\n"
     ]
    }
   ],
   "source": [
    "first_name = 'majesty'\n",
    "integer_value = 24\n",
    "floatvalue = '28.3'\n",
    "booleanvalue = False\n",
    "print(first_name)\n",
    "print(integer_value)\n",
    "print(floatvalue)\n",
    "print(booleanvalue)\n"
   ]
  },
  {
   "cell_type": "code",
   "execution_count": 6,
   "id": "c22c94a8",
   "metadata": {},
   "outputs": [
    {
     "name": "stdout",
     "output_type": "stream",
     "text": [
      "are'nt they what we expected them to be\n",
      "they're all good boys in general\n",
      "majesty is a good boy\n",
      "majesty loves music\n"
     ]
    }
   ],
   "source": [
    "word = 'are\\'nt they what we expected them to be'\n",
    "print(word)\n",
    "word2 = 'they\\'re all good boys in general'\n",
    "word3 = 'majesty is a good boy\\nmajesty loves music'\n",
    "print(word2)\n",
    "print(word3)"
   ]
  },
  {
   "cell_type": "code",
   "execution_count": 9,
   "id": "b344bee4",
   "metadata": {},
   "outputs": [
    {
     "name": "stdout",
     "output_type": "stream",
     "text": [
      "james they're all good boys in general\n",
      "george majesty\n",
      "george majesty james\n",
      "I sold a shirt for 2800, three pairs of trousers for 32000 and a pair of trousers for 40000\n",
      "I sold a shirt for 40000,three pairs of trousers for 2800and a pair of trousers for32000\n"
     ]
    }
   ],
   "source": [
    "lastname = 'james' \n",
    "print(lastname + ' '+word2)\n",
    "surname = 'george'\n",
    "print(surname +' '+first_name)\n",
    "print(surname +' '+first_name +' '+lastname)\n",
    "price1 = 2800\n",
    "price2 = 32000\n",
    "price3 = 40000\n",
    "sales_report = 'I sold a shirt for {}, three pairs of trousers for {} and a pair of trousers for {}'\n",
    "print(sales_report.format(price1,price2,price3))\n",
    "print(f'I sold a shirt for {price3},three pairs of trousers for {price1}and a pair of trousers for{price2}')\n"
   ]
  },
  {
   "cell_type": "code",
   "execution_count": 3,
   "id": "a4159dbd",
   "metadata": {},
   "outputs": [
    {
     "name": "stdout",
     "output_type": "stream",
     "text": [
      "majesty\n",
      "MAJESTY\n",
      "Majesty Is A Boy\n",
      "Majesty is a boy\n",
      "['majesty', 'is', 'a', 'boy']\n",
      "prosper\n"
     ]
    }
   ],
   "source": [
    "word1 = 'MAJESTY'\n",
    "word2 = 'majesty'\n",
    "word3 = 'majesty is a boy'\n",
    "word4 = 'prosper'\n",
    "print(word1.lower())\n",
    "print(word2.upper())\n",
    "print(word3.title())\n",
    "print(word3.capitalize())\n",
    "print(word3.split())\n",
    "print(word4.strip())\n"
   ]
  },
  {
   "cell_type": "code",
   "execution_count": null,
   "id": "dff5ecca",
   "metadata": {},
   "outputs": [],
   "source": []
  }
 ],
 "metadata": {
  "kernelspec": {
   "display_name": "Python 3 (ipykernel)",
   "language": "python",
   "name": "python3"
  },
  "language_info": {
   "codemirror_mode": {
    "name": "ipython",
    "version": 3
   },
   "file_extension": ".py",
   "mimetype": "text/x-python",
   "name": "python",
   "nbconvert_exporter": "python",
   "pygments_lexer": "ipython3",
   "version": "3.9.12"
  }
 },
 "nbformat": 4,
 "nbformat_minor": 5
}
