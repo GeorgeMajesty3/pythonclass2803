{
 "cells": [
  {
   "cell_type": "code",
   "execution_count": 1,
   "id": "79b1bbeb",
   "metadata": {},
   "outputs": [],
   "source": [
    "    #class and object "
   ]
  },
  {
   "cell_type": "code",
   "execution_count": 1,
   "id": "9e840f4c",
   "metadata": {},
   "outputs": [],
   "source": [
    "class dog:\n",
    "    attr1 = 'Mammal'\n",
    "    attr2 = 'Bark'\n",
    "obj = dog()    "
   ]
  },
  {
   "cell_type": "code",
   "execution_count": 2,
   "id": "45af1b4b",
   "metadata": {},
   "outputs": [
    {
     "data": {
      "text/plain": [
       "'Mammal'"
      ]
     },
     "execution_count": 2,
     "metadata": {},
     "output_type": "execute_result"
    }
   ],
   "source": [
    "obj.attr1"
   ]
  },
  {
   "cell_type": "code",
   "execution_count": 3,
   "id": "7d7d2ea5",
   "metadata": {
    "scrolled": true
   },
   "outputs": [
    {
     "data": {
      "text/plain": [
       "'Bark'"
      ]
     },
     "execution_count": 3,
     "metadata": {},
     "output_type": "execute_result"
    }
   ],
   "source": [
    "obj.attr2"
   ]
  },
  {
   "cell_type": "code",
   "execution_count": 3,
   "id": "e20057e8",
   "metadata": {},
   "outputs": [],
   "source": [
    "class dog:\n",
    "    attr1 = 'Mammal'\n",
    "    attr2 = 'bark'\n",
    "    def family(self):\n",
    "        print(f'obj belongs to the family of {self.attri}')\n",
    "    def details(self):\n",
    "        print(f'obj can {self.attr2}')\n",
    "obj = dog() \n",
    "\n",
    "\n"
   ]
  },
  {
   "cell_type": "code",
   "execution_count": null,
   "id": "87f72722",
   "metadata": {},
   "outputs": [],
   "source": [
    "class car_simulation:\n",
    "    def __init__ (self,brand,model,color,year,speed):\n",
    "        self.brand = brand \n",
    "        self.model = model\n",
    "        self.color = color\n",
    "        self.year = year\n",
    "        self.speed = speed\n",
    "        \n",
    "    def start(self):\n",
    "        print(f'{self.brand} {self.model} has started')\n",
    "    def gear(self):\n",
    "        choice = int(input('Please input a gear:'))\n",
    "        if choice == 1:\n",
    "            print('Gear 1 selected')\n",
    "        elif choice == 2:\n",
    "            print('Gear 2 selected')\n",
    "        elif choice == 3:\n",
    "            print('Gear 3 selected')\n",
    "        elif choice == 4:\n",
    "            print('Gear 4 selected')\n",
    "        elif choice == 5:\n",
    "            print('Gear 5 selected')\n",
    "        elif choice == 6:\n",
    "            print('Gear placed on reverse')\n",
    "    def accelerate(self,ch): \n",
    "        if ch == 1:\n",
    "            print('Nitro on ready for maximum acceleration')\n",
    "        elif ch == 2:\n",
    "            print('Nitro off')\n",
    "        else:\n",
    "            print('Nitro option not recognize')\n",
    "    def stop(self):\n",
    "        print(f'{self.brand} {self.model} has stopped, simulation over')\n",
    "car1 = car_simulation('Audi','G6','Black',2019,300)\n",
    "print(car1.start())\n",
    "print(car1.gear()) \n",
    "print(car1.accelerate(1))\n",
    "print(car1.stop())"
   ]
  },
  {
   "cell_type": "code",
   "execution_count": 34,
   "id": "d27c9698",
   "metadata": {},
   "outputs": [
    {
     "name": "stdout",
     "output_type": "stream",
     "text": [
      "Mercedez benz GLK has started\n",
      "None\n",
      "Please input a gear:4\n",
      "Gear 4 selected\n",
      "None\n",
      "Nitro on ready for maximum acceleration\n",
      "None\n",
      "Mercedez benz GLK has stopped, simulation over\n",
      "None\n",
      "roof open\n",
      "None\n"
     ]
    }
   ],
   "source": [
    "class new_car(car_simulation):\n",
    "    def openroof(self,ch):\n",
    "        if ch ==1:\n",
    "            print('roof open')\n",
    "        elif ch == 2:\n",
    "            print('roof closed')\n",
    "        else :\n",
    "            print('Roof option not recognize')\n",
    "car2 = new_car('Mercedez benz','GLK','Black',2022,450)\n",
    "print(car2.start())\n",
    "print(car2.gear()) \n",
    "print(car2.accelerate(1))\n",
    "print(car2.stop())\n",
    "print(car2.openroof(1))"
   ]
  },
  {
   "cell_type": "code",
   "execution_count": null,
   "id": "dbb21a7b",
   "metadata": {},
   "outputs": [],
   "source": []
  }
 ],
 "metadata": {
  "kernelspec": {
   "display_name": "Python 3 (ipykernel)",
   "language": "python",
   "name": "python3"
  },
  "language_info": {
   "codemirror_mode": {
    "name": "ipython",
    "version": 3
   },
   "file_extension": ".py",
   "mimetype": "text/x-python",
   "name": "python",
   "nbconvert_exporter": "python",
   "pygments_lexer": "ipython3",
   "version": "3.9.12"
  }
 },
 "nbformat": 4,
 "nbformat_minor": 5
}
