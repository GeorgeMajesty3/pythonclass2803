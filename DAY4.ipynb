{
 "cells": [
  {
   "cell_type": "code",
   "execution_count": 1,
   "metadata": {},
   "outputs": [
    {
     "name": "stdout",
     "output_type": "stream",
     "text": [
      "please provide a number:2\n",
      "2 is a positive number\n"
     ]
    }
   ],
   "source": [
    "#conditional statement\n",
    "num = int(input('please provide a number:'))\n",
    "if num > 0:\n",
    "    print(f'{num} is a positive number')"
   ]
  },
  {
   "cell_type": "code",
   "execution_count": 3,
   "metadata": {},
   "outputs": [
    {
     "name": "stdout",
     "output_type": "stream",
     "text": [
      "please provide a number:0\n",
      "0 is a negative number or zero\n"
     ]
    }
   ],
   "source": [
    "num = int(input('please provide a number:'))\n",
    "if num > 0:\n",
    "    print(f'{num} is a positive number')\n",
    "else :\n",
    "    print(f'{num} is a negative number or zero')    "
   ]
  },
  {
   "cell_type": "code",
   "execution_count": 7,
   "metadata": {},
   "outputs": [
    {
     "name": "stdout",
     "output_type": "stream",
     "text": [
      "ade made a profit of-1900\n"
     ]
    }
   ],
   "source": [
    "#Exercise one \n",
    "#Ade bought a banana for 800 each two got spoilt and  he sold the remaining 6 at 750 each . write a program to check if profit was made os lost was made\n",
    "tb = 800*8\n",
    "rb = 750*6\n",
    "if rb > tb:\n",
    "    print(f'ade made a loss of {tb - rb}' )\n",
    "else:\n",
    "    print(f'ade made a profit of{rb - tb}')"
   ]
  },
  {
   "cell_type": "code",
   "execution_count": 32,
   "metadata": {},
   "outputs": [
    {
     "name": "stdout",
     "output_type": "stream",
     "text": [
      "please provide a nmber:9\n",
      "9 is a positive number\n"
     ]
    }
   ],
   "source": [
    "num = int(input('please provide a nmber:'))\n",
    "if num > 0:\n",
    "    print(f'{num} is a positive number')\n",
    "else:\n",
    "    if num < 0:\n",
    "        print(f'{num} is a negative number')\n",
    "    else:\n",
    "        print(f'{num} is zero')"
   ]
  },
  {
   "cell_type": "code",
   "execution_count": 29,
   "metadata": {},
   "outputs": [
    {
     "name": "stdout",
     "output_type": "stream",
     "text": [
      "please provide a nmber:-5\n",
      "-5 is a negstive number\n"
     ]
    }
   ],
   "source": [
    "num = int(input('please provide a nmber:'))\n",
    "if num > 0:\n",
    "    print(f'{num} is a positive number')\n",
    "elif num < 0:\n",
    "    print(f'{num} is a negstive number')\n",
    "else:\n",
    "    print(f'{num} is zero')"
   ]
  },
  {
   "cell_type": "code",
   "execution_count": null,
   "metadata": {},
   "outputs": [],
   "source": [
    "sub1 = float(input('mathscore'))\n",
    "sub2 = float(input('englishscore'))\n",
    "sub3 = float(input('biologyscore'))\n",
    "sub4 = float(input('chemistryscore'))\n",
    "sub5 = float(input('physicscore'))\n",
    "sub6 = float(input('agricscore'))\n",
    "sub7 = float(input('economicsscore'))\n",
    "sub8 = float(input('geographyscore'))\n",
    "\n",
    "Average_score = sum([sb1,sub2,sub3,sub4,sub5,sub6,sub7,sub8])/8\n",
    "if Average_score >= 70 and Average_score <= 100:\n",
    "    print(f'Your average score in the above subject is {Average_score} your grade is A')\n",
    "elif Average_score >= 69 and Average_score <= 69.99:\n",
    "     print(f'Your average score in the above subject is {Average_score} your grade is B')\n",
    "elif Average_score >= 69 and Average_score <= 69.99:        \n",
    "     print(f'Your average score in the above subject is {Average_score} your grade is C')\n",
    "elif Average_score >= 69 and Average_score <= 69.99:            \n",
    "     print(f'Your average score in the above subject is {Average_score} your grade is D')\n",
    "elif Average_score >= 69 and Average_score <= 69.99:                \n",
    "     print(f'Your average score in the above subject is {Average_score} your grade is E')\n",
    "else:\n",
    "     print(f'Your average score in the above subject is {Average_score} your grade is F')\n",
    "\n",
    "        \n"
   ]
  },
  {
   "cell_type": "code",
   "execution_count": null,
   "metadata": {},
   "outputs": [],
   "source": []
  }
 ],
 "metadata": {
  "kernelspec": {
   "display_name": "Python 3",
   "language": "python",
   "name": "python3"
  },
  "language_info": {
   "codemirror_mode": {
    "name": "ipython",
    "version": 3
   },
   "file_extension": ".py",
   "mimetype": "text/x-python",
   "name": "python",
   "nbconvert_exporter": "python",
   "pygments_lexer": "ipython3",
   "version": "3.7.3"
  }
 },
 "nbformat": 4,
 "nbformat_minor": 2
}
