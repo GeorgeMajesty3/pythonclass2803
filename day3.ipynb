{
 "cells": [
  {
   "cell_type": "code",
   "execution_count": 8,
   "id": "5d4b7196",
   "metadata": {},
   "outputs": [],
   "source": [
    "items = ['cup','apple','spoon','lemon']"
   ]
  },
  {
   "cell_type": "code",
   "execution_count": null,
   "id": "2da48427",
   "metadata": {},
   "outputs": [],
   "source": [
    "n"
   ]
  },
  {
   "cell_type": "code",
   "execution_count": 9,
   "id": "e4afa52f",
   "metadata": {},
   "outputs": [
    {
     "name": "stdout",
     "output_type": "stream",
     "text": [
      "['cup', 'apple', 'spoon', 'lemon', 'plate']\n"
     ]
    }
   ],
   "source": [
    "items.append('plate')\n",
    "print(items)"
   ]
  },
  {
   "cell_type": "code",
   "execution_count": 11,
   "id": "533945f8",
   "metadata": {},
   "outputs": [
    {
     "name": "stdout",
     "output_type": "stream",
     "text": [
      "['cup', 'apple', 'spoon', 'lemon', 'plate', 'apple', 'tray', 'strawberry', 'coconut', 'pear', 'apple', 'tray', 'strawberry', 'coconut', 'pear']\n"
     ]
    }
   ],
   "source": [
    "new_value = ['apple','tray','strawberry','coconut','pear']\n",
    "items.extend(new_value)\n",
    "print(items)"
   ]
  },
  {
   "cell_type": "code",
   "execution_count": 1,
   "id": "1927e045",
   "metadata": {},
   "outputs": [
    {
     "ename": "NameError",
     "evalue": "name 'append' is not defined",
     "output_type": "error",
     "traceback": [
      "\u001b[1;31m---------------------------------------------------------------------------\u001b[0m",
      "\u001b[1;31mNameError\u001b[0m                                 Traceback (most recent call last)",
      "Input \u001b[1;32mIn [1]\u001b[0m, in \u001b[0;36m<cell line: 1>\u001b[1;34m()\u001b[0m\n\u001b[1;32m----> 1\u001b[0m items\u001b[38;5;241m=\u001b[39m\u001b[43mappend\u001b[49m(\u001b[38;5;241m3\u001b[39m,\u001b[38;5;124m'\u001b[39m\u001b[38;5;124mpencil\u001b[39m\u001b[38;5;124m'\u001b[39m)\n\u001b[0;32m      2\u001b[0m \u001b[38;5;28mprint\u001b[39m(items)\n",
      "\u001b[1;31mNameError\u001b[0m: name 'append' is not defined"
     ]
    }
   ],
   "source": [
    "items=append(3,'pencil')\n",
    "print(items)"
   ]
  },
  {
   "cell_type": "code",
   "execution_count": 15,
   "id": "a5588633",
   "metadata": {},
   "outputs": [
    {
     "name": "stdout",
     "output_type": "stream",
     "text": [
      "['pear', 'coconut', 'strawberry', 'tray', 'apple', 'pear', 'coconut', 'strawberry', 'tray', 'apple', 'plate', 'pencil', 'lemon', 'spoon', 'apple', 'cup']\n"
     ]
    }
   ],
   "source": [
    "items.reverse()\n",
    "print(items)"
   ]
  },
  {
   "cell_type": "code",
   "execution_count": 16,
   "id": "3c039d7a",
   "metadata": {},
   "outputs": [
    {
     "name": "stdout",
     "output_type": "stream",
     "text": [
      "['apple', 'apple', 'apple', 'coconut', 'coconut', 'cup', 'lemon', 'pear', 'pear', 'pencil', 'plate', 'spoon', 'strawberry', 'strawberry', 'tray', 'tray']\n"
     ]
    }
   ],
   "source": [
    "items.sort()\n",
    "print(items)"
   ]
  },
  {
   "cell_type": "code",
   "execution_count": 17,
   "id": "f6988ca7",
   "metadata": {},
   "outputs": [
    {
     "name": "stdout",
     "output_type": "stream",
     "text": [
      "['apple', 'apple', 'apple', 'coconut', 'coconut', 'cup', 'lemon', 'pear', 'pear', 'pencil', 'plate', 'spoon', 'strawberry', 'strawberry', 'tray']\n"
     ]
    }
   ],
   "source": [
    "items.pop()\n",
    "print(items)"
   ]
  },
  {
   "cell_type": "markdown",
   "id": "58bb49e6",
   "metadata": {},
   "source": [
    "items.pop(7)\n",
    "print(items)"
   ]
  },
  {
   "cell_type": "code",
   "execution_count": 18,
   "id": "c3899e81",
   "metadata": {},
   "outputs": [],
   "source": [
    "items.remove('cup')"
   ]
  },
  {
   "cell_type": "code",
   "execution_count": 19,
   "id": "8d1741b8",
   "metadata": {},
   "outputs": [
    {
     "name": "stdout",
     "output_type": "stream",
     "text": [
      "['apple', 'apple', 'apple', 'coconut', 'coconut', 'lemon', 'pear', 'pear', 'pencil', 'plate', 'spoon', 'strawberry', 'strawberry', 'tray']\n"
     ]
    }
   ],
   "source": [
    "print(items)"
   ]
  },
  {
   "cell_type": "code",
   "execution_count": 20,
   "id": "c50738cb",
   "metadata": {},
   "outputs": [
    {
     "name": "stdout",
     "output_type": "stream",
     "text": [
      "['apple', 'apple', 'apple', 'coconut', 'coconut', 'lemon', 'pear', 'pear', 'pencil', 'plate', 'spoon', 'strawberry', 'strawberry', 'tray']\n"
     ]
    }
   ],
   "source": [
    "items_copy = items.copy()\n",
    "print(items_copy)"
   ]
  },
  {
   "cell_type": "code",
   "execution_count": 21,
   "id": "e63ce63b",
   "metadata": {},
   "outputs": [
    {
     "name": "stdout",
     "output_type": "stream",
     "text": [
      "[]\n"
     ]
    }
   ],
   "source": [
    "items_copy.clear()\n",
    "print(items_copy)"
   ]
  },
  {
   "cell_type": "code",
   "execution_count": null,
   "id": "d66a3a02",
   "metadata": {},
   "outputs": [],
   "source": []
  },
  {
   "cell_type": "code",
   "execution_count": 22,
   "id": "b61bd429",
   "metadata": {},
   "outputs": [
    {
     "ename": "NameError",
     "evalue": "name 'items_copy' is not defined",
     "output_type": "error",
     "traceback": [
      "\u001b[1;31m---------------------------------------------------------------------------\u001b[0m",
      "\u001b[1;31mNameError\u001b[0m                                 Traceback (most recent call last)",
      "Input \u001b[1;32mIn [22]\u001b[0m, in \u001b[0;36m<cell line: 2>\u001b[1;34m()\u001b[0m\n\u001b[0;32m      1\u001b[0m \u001b[38;5;28;01mdel\u001b[39;00m(items_copy)\n\u001b[1;32m----> 2\u001b[0m \u001b[38;5;28mprint\u001b[39m(\u001b[43mitems_copy\u001b[49m)\n",
      "\u001b[1;31mNameError\u001b[0m: name 'items_copy' is not defined"
     ]
    }
   ],
   "source": [
    "del(items_copy)\n",
    "print(items_copy)"
   ]
  },
  {
   "cell_type": "code",
   "execution_count": 23,
   "id": "bb905524",
   "metadata": {},
   "outputs": [
    {
     "name": "stdout",
     "output_type": "stream",
     "text": [
      "45\n"
     ]
    }
   ],
   "source": [
    "details = {\n",
    "    'name': 'ade',\n",
    "    'age':45,\n",
    "    'gender':'male'\n",
    "}\n",
    "print(details['age'])"
   ]
  },
  {
   "cell_type": "code",
   "execution_count": 24,
   "id": "a2d329de",
   "metadata": {},
   "outputs": [
    {
     "name": "stdout",
     "output_type": "stream",
     "text": [
      "dict_keys(['name', 'age', 'gender'])\n"
     ]
    }
   ],
   "source": [
    "print(details.keys())"
   ]
  },
  {
   "cell_type": "code",
   "execution_count": 25,
   "id": "8ba44136",
   "metadata": {},
   "outputs": [
    {
     "name": "stdout",
     "output_type": "stream",
     "text": [
      "dict_values(['ade', 45, 'male'])\n"
     ]
    }
   ],
   "source": [
    "print(details.values())"
   ]
  },
  {
   "cell_type": "code",
   "execution_count": 26,
   "id": "aec11db3",
   "metadata": {},
   "outputs": [],
   "source": [
    "r = {'age':50}\n",
    "details.update(r)"
   ]
  },
  {
   "cell_type": "code",
   "execution_count": 27,
   "id": "ca681370",
   "metadata": {},
   "outputs": [
    {
     "name": "stdout",
     "output_type": "stream",
     "text": [
      "{'name': 'ade', 'age': 50, 'gender': 'male'}\n"
     ]
    }
   ],
   "source": [
    "print(details)"
   ]
  },
  {
   "cell_type": "markdown",
   "id": "ec4b7b66",
   "metadata": {},
   "source": [
    "##### details.items()"
   ]
  },
  {
   "cell_type": "code",
   "execution_count": 30,
   "id": "b4fd690f",
   "metadata": {},
   "outputs": [
    {
     "name": "stdout",
     "output_type": "stream",
     "text": [
      "samuel\n"
     ]
    }
   ],
   "source": [
    "records = {\n",
    "    'name':['job','jane','samuel','faith'],\n",
    "    'age':[25,30,24,21],\n",
    "    'gender':['male','female','male','female']\n",
    "}\n",
    "print(records['name'][2])"
   ]
  },
  {
   "cell_type": "code",
   "execution_count": 32,
   "id": "0a4d7342",
   "metadata": {},
   "outputs": [
    {
     "name": "stdout",
     "output_type": "stream",
     "text": [
      "<class 'tuple'>\n"
     ]
    }
   ],
   "source": [
    "numbers = (4,75,50,52,4,80,82,12,5,6,4,87,90)\n",
    "print(type(numbers))"
   ]
  },
  {
   "cell_type": "code",
   "execution_count": 33,
   "id": "aac1e9c3",
   "metadata": {},
   "outputs": [
    {
     "name": "stdout",
     "output_type": "stream",
     "text": [
      "13\n"
     ]
    }
   ],
   "source": [
    "print(len(numbers))"
   ]
  },
  {
   "cell_type": "code",
   "execution_count": 34,
   "id": "e6623d07",
   "metadata": {},
   "outputs": [
    {
     "name": "stdout",
     "output_type": "stream",
     "text": [
      "82\n"
     ]
    }
   ],
   "source": [
    "print(numbers[6])"
   ]
  },
  {
   "cell_type": "code",
   "execution_count": 35,
   "id": "a5878073",
   "metadata": {},
   "outputs": [
    {
     "name": "stdout",
     "output_type": "stream",
     "text": [
      "80\n"
     ]
    }
   ],
   "source": [
    "print(numbers[-8])"
   ]
  },
  {
   "cell_type": "code",
   "execution_count": 36,
   "id": "e355867c",
   "metadata": {},
   "outputs": [
    {
     "name": "stdout",
     "output_type": "stream",
     "text": [
      "(4, 80, 82, 12, 5)\n"
     ]
    }
   ],
   "source": [
    "print(numbers[4:9])"
   ]
  },
  {
   "cell_type": "code",
   "execution_count": 37,
   "id": "b858eaca",
   "metadata": {},
   "outputs": [
    {
     "name": "stdout",
     "output_type": "stream",
     "text": [
      "False\n"
     ]
    }
   ],
   "source": [
    " print(25 in numbers)"
   ]
  },
  {
   "cell_type": "code",
   "execution_count": 38,
   "id": "59f06c21",
   "metadata": {},
   "outputs": [
    {
     "data": {
      "text/plain": [
       "3"
      ]
     },
     "execution_count": 38,
     "metadata": {},
     "output_type": "execute_result"
    }
   ],
   "source": [
    "numbers.count(4)"
   ]
  },
  {
   "cell_type": "code",
   "execution_count": 39,
   "id": "38a1926a",
   "metadata": {},
   "outputs": [
    {
     "data": {
      "text/plain": [
       "12"
      ]
     },
     "execution_count": 39,
     "metadata": {},
     "output_type": "execute_result"
    }
   ],
   "source": [
    "numbers.index(90)"
   ]
  },
  {
   "cell_type": "code",
   "execution_count": null,
   "id": "0118a3da",
   "metadata": {},
   "outputs": [],
   "source": []
  }
 ],
 "metadata": {
  "kernelspec": {
   "display_name": "Python 3 (ipykernel)",
   "language": "python",
   "name": "python3"
  },
  "language_info": {
   "codemirror_mode": {
    "name": "ipython",
    "version": 3
   },
   "file_extension": ".py",
   "mimetype": "text/x-python",
   "name": "python",
   "nbconvert_exporter": "python",
   "pygments_lexer": "ipython3",
   "version": "3.9.12"
  }
 },
 "nbformat": 4,
 "nbformat_minor": 5
}
