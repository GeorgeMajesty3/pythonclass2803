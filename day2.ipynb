{
 "cells": [
  {
   "cell_type": "code",
   "execution_count": 1,
   "metadata": {},
   "outputs": [
    {
     "name": "stdout",
     "output_type": "stream",
     "text": [
      "majesty is fun\n",
      "majesty is cheerful\n",
      "majesty loves everybody\n",
      "\n"
     ]
    }
   ],
   "source": [
    "word = '''majesty is fun\n",
    "majesty is cheerful\n",
    "majesty loves everybody\n",
    "'''\n",
    "print(word)"
   ]
  },
  {
   "cell_type": "code",
   "execution_count": 2,
   "metadata": {},
   "outputs": [
    {
     "name": "stdout",
     "output_type": "stream",
     "text": [
      "23.0\n"
     ]
    }
   ],
   "source": [
    "num = '23'\n",
    "print(float(num))"
   ]
  },
  {
   "cell_type": "code",
   "execution_count": 2,
   "metadata": {},
   "outputs": [
    {
     "name": "stdout",
     "output_type": "stream",
     "text": [
      "<class 'int'>\n"
     ]
    }
   ],
   "source": [
    "num2 =int\n",
    "(28.6)\n",
    "print(num2)"
   ]
  },
  {
   "cell_type": "code",
   "execution_count": 3,
   "metadata": {},
   "outputs": [
    {
     "name": "stdout",
     "output_type": "stream",
     "text": [
      "<class 'type'>\n"
     ]
    }
   ],
   "source": [
    "print(type(num2))"
   ]
  },
  {
   "cell_type": "code",
   "execution_count": 4,
   "metadata": {},
   "outputs": [
    {
     "name": "stdout",
     "output_type": "stream",
     "text": [
      "<class 'int'>\n"
     ]
    }
   ],
   "source": [
    "print(str(num2))"
   ]
  },
  {
   "cell_type": "code",
   "execution_count": 5,
   "metadata": {},
   "outputs": [
    {
     "name": "stdout",
     "output_type": "stream",
     "text": [
      "Enter your age23\n",
      "<class 'int'>\n"
     ]
    }
   ],
   "source": [
    "age = int(input('Enter your age'))\n",
    "print(type(age))"
   ]
  },
  {
   "cell_type": "code",
   "execution_count": 7,
   "metadata": {},
   "outputs": [
    {
     "name": "stdout",
     "output_type": "stream",
     "text": [
      "4+2=6\n",
      "4-2=2\n",
      "4/2=2.0\n",
      "4*2=8\n",
      "4//2=2\n",
      "4**2=16\n",
      "4%2=0\n"
     ]
    }
   ],
   "source": [
    "num1 = 4\n",
    "num2 = 2\n",
    "print(f'{num1}+{num2}={num1 +num2}')\n",
    "print(f'{num1}-{num2}={num1 -num2}')\n",
    "print(f'{num1}/{num2}={num1 /num2}')\n",
    "print(f'{num1}*{num2}={num1 *num2}')\n",
    "print(f'{num1}//{num2}={num1 //num2}')\n",
    "print(f'{num1}**{num2}={num1 **num2}')\n",
    "print(f'{num1}%{num2}={num1 %num2}')"
   ]
  },
  {
   "cell_type": "code",
   "execution_count": 22,
   "metadata": {},
   "outputs": [
    {
     "name": "stdout",
     "output_type": "stream",
     "text": [
      "False\n",
      "False\n",
      "False\n",
      "False\n",
      "False\n",
      "True\n"
     ]
    }
   ],
   "source": [
    "print(f'{num1}'>'{num2} = {num1'>'num2}')\n",
    "print(f'{num1}'<'{num2} = {num1'<'num2}')\n",
    "print(f'{num1}'>='{num2} = {num1'>='num2}')\n",
    "print(f'{num1}'<'{num2} = {num1'<='num2}')\n",
    "print(f'{num1}'=='{num2} = {num1'=='num2}')\n",
    "print(f'{num1}'!='{num2} = {num1'!='num2}')"
   ]
  },
  {
   "cell_type": "code",
   "execution_count": 25,
   "metadata": {},
   "outputs": [
    {
     "name": "stdout",
     "output_type": "stream",
     "text": [
      "80>10and80!=10= True\n",
      "80>10or80==10= False\n",
      "not 10False\n"
     ]
    }
   ],
   "source": [
    "print(f'{num1}>{num2}and{num1}!={num2}= {num1 > num2 and num1 != num2}')\n",
    "print(f'{num1}>{num2}or{num1}=={num2}= {num1 < num2 or num1 == num2}')\n",
    "print(f'not {num2}{not num2}') "
   ]
  },
  {
   "cell_type": "code",
   "execution_count": 34,
   "metadata": {},
   "outputs": [
    {
     "name": "stdout",
     "output_type": "stream",
     "text": [
      "80 is 10 = False\n",
      "80 is not 10 = True\n"
     ]
    }
   ],
   "source": [
    "print(f'{num1} is {num2} = {num1 is num2}')\n",
    "print(f'{num1} is not {num2} = {num1 is not num2}')"
   ]
  },
  {
   "cell_type": "code",
   "execution_count": 28,
   "metadata": {},
   "outputs": [
    {
     "name": "stdout",
     "output_type": "stream",
     "text": [
      "True\n",
      "True\n"
     ]
    }
   ],
   "source": [
    "word = 'python'\n",
    "print('p' in word)\n",
    "print(\"P\" not in word)"
   ]
  },
  {
   "cell_type": "code",
   "execution_count": 35,
   "metadata": {},
   "outputs": [
    {
     "name": "stdout",
     "output_type": "stream",
     "text": [
      "Ade's profit on 800 is 88000\n",
      "120000 + 32000 = 152000\n"
     ]
    }
   ],
   "source": [
    "#Ade bought 800 pen at 40 nairs each and sold them at the rate of 150 each calculate ade's profit\n",
    "totalpen = 800\n",
    "sp = 150 * totalpen\n",
    "cp = 40 * totalpen\n",
    "profit = sp - cp\n",
    "print(f'Ade\\'s profit on {totalpen} is {profit}')\n",
    "print(f'{sp} + {cp} = {sp + cp}')"
   ]
  },
  {
   "cell_type": "code",
   "execution_count": null,
   "metadata": {},
   "outputs": [],
   "source": []
  }
 ],
 "metadata": {
  "kernelspec": {
   "display_name": "Python 3 (ipykernel)",
   "language": "python",
   "name": "python3"
  },
  "language_info": {
   "codemirror_mode": {
    "name": "ipython",
    "version": 3
   },
   "file_extension": ".py",
   "mimetype": "text/x-python",
   "name": "python",
   "nbconvert_exporter": "python",
   "pygments_lexer": "ipython3",
   "version": "3.9.12"
  }
 },
 "nbformat": 4,
 "nbformat_minor": 2
}
