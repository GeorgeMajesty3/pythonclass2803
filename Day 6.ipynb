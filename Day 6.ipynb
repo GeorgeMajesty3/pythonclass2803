{
 "cells": [
  {
   "cell_type": "code",
   "execution_count": 1,
   "metadata": {},
   "outputs": [
    {
     "name": "stdout",
     "output_type": "stream",
     "text": [
      "Welcome to python class\n"
     ]
    }
   ],
   "source": [
    "def greet():\n",
    "    print('Welcome to python class')\n",
    "greet()    "
   ]
  },
  {
   "cell_type": "code",
   "execution_count": 3,
   "metadata": {},
   "outputs": [
    {
     "name": "stdout",
     "output_type": "stream",
     "text": [
      "Welcome to pthon class simeon\n"
     ]
    }
   ],
   "source": [
    "def greet2(name):\n",
    "    print(f'Welcome to pthon class {name}')\n",
    "greet2('simeon')    "
   ]
  },
  {
   "cell_type": "code",
   "execution_count": 4,
   "metadata": {},
   "outputs": [
    {
     "name": "stdout",
     "output_type": "stream",
     "text": [
      "Welcome to pthon class Ade\n"
     ]
    }
   ],
   "source": [
    "greet2('Ade')"
   ]
  },
  {
   "cell_type": "code",
   "execution_count": 63,
   "metadata": {},
   "outputs": [
    {
     "ename": "NameError",
     "evalue": "name 'NAME' is not defined",
     "output_type": "error",
     "traceback": [
      "\u001b[1;31m---------------------------------------------------------------------------\u001b[0m",
      "\u001b[1;31mNameError\u001b[0m                                 Traceback (most recent call last)",
      "\u001b[1;32m<ipython-input-63-825371acb5e9>\u001b[0m in \u001b[0;36m<module>\u001b[1;34m\u001b[0m\n\u001b[0;32m      8\u001b[0m     \u001b[1;32melse\u001b[0m\u001b[1;33m:\u001b[0m\u001b[1;33m\u001b[0m\u001b[1;33m\u001b[0m\u001b[0m\n\u001b[0;32m      9\u001b[0m         \u001b[0mprint\u001b[0m\u001b[1;33m(\u001b[0m\u001b[1;34m'Sorry you are not eligible to vote'\u001b[0m\u001b[1;33m)\u001b[0m\u001b[1;33m\u001b[0m\u001b[1;33m\u001b[0m\u001b[0m\n\u001b[1;32m---> 10\u001b[1;33m \u001b[0mvote_check\u001b[0m\u001b[1;33m(\u001b[0m\u001b[1;34m'Simeon'\u001b[0m\u001b[1;33m,\u001b[0m\u001b[1;34m'Male'\u001b[0m\u001b[1;33m,\u001b[0m\u001b[1;36m40\u001b[0m\u001b[1;33m)\u001b[0m\u001b[1;33m\u001b[0m\u001b[1;33m\u001b[0m\u001b[0m\n\u001b[0m",
      "\u001b[1;32m<ipython-input-63-825371acb5e9>\u001b[0m in \u001b[0;36mvote_check\u001b[1;34m(name, gender, age)\u001b[0m\n\u001b[0;32m      3\u001b[0m      \u001b[0mGENDER\u001b[0m\u001b[1;33m:\u001b[0m\u001b[1;33m{\u001b[0m\u001b[0mgender\u001b[0m\u001b[1;33m}\u001b[0m\u001b[1;33m\u001b[0m\u001b[1;33m\u001b[0m\u001b[0m\n\u001b[0;32m      4\u001b[0m      \u001b[0mAGE\u001b[0m\u001b[1;33m:\u001b[0m\u001b[1;33m{\u001b[0m\u001b[0mage\u001b[0m\u001b[1;33m}\u001b[0m\u001b[1;33m\u001b[0m\u001b[1;33m\u001b[0m\u001b[0m\n\u001b[1;32m----> 5\u001b[1;33m      ''')\n\u001b[0m\u001b[0;32m      6\u001b[0m     \u001b[1;32mif\u001b[0m \u001b[0mage\u001b[0m\u001b[1;33m>=\u001b[0m\u001b[1;36m18\u001b[0m\u001b[1;33m:\u001b[0m\u001b[1;33m\u001b[0m\u001b[1;33m\u001b[0m\u001b[0m\n\u001b[0;32m      7\u001b[0m         \u001b[0mprint\u001b[0m\u001b[1;33m(\u001b[0m\u001b[1;34m'Congratulations you are eligible to vote'\u001b[0m\u001b[1;33m)\u001b[0m\u001b[1;33m\u001b[0m\u001b[1;33m\u001b[0m\u001b[0m\n",
      "\u001b[1;31mNameError\u001b[0m: name 'NAME' is not defined"
     ]
    }
   ],
   "source": [
    "def  vote_check(name,gender,age):\n",
    "    print(F'''{NAME}:{name}\n",
    "     GENDER:{gender}\n",
    "     AGE:{age}    \n",
    "     ''')\n",
    "    if age>=18:\n",
    "        print('Congratulations you are eligible to vote')\n",
    "    else:\n",
    "        print('Sorry you are not eligible to vote')\n",
    "vote_check('Simeon','Male',40)"
   ]
  },
  {
   "cell_type": "code",
   "execution_count": 15,
   "metadata": {},
   "outputs": [
    {
     "name": "stdout",
     "output_type": "stream",
     "text": [
      "<class 'tuple'>\n"
     ]
    },
    {
     "data": {
      "text/plain": [
       "'The average score of the following values (78, 75, 85, 55, 46, 29, 49, 20) is 54.62'"
      ]
     },
     "execution_count": 15,
     "metadata": {},
     "output_type": "execute_result"
    }
   ],
   "source": [
    "def average(*num):\n",
    "    print(type(num))\n",
    "    avg =sum(num)/len(num)\n",
    "    return f'The average score of the following values {num} is {round(avg,2)}'\n",
    "average(78,75,85,55,46,29,49,20)"
   ]
  },
  {
   "cell_type": "code",
   "execution_count": 18,
   "metadata": {},
   "outputs": [
    {
     "name": "stdout",
     "output_type": "stream",
     "text": [
      "<class 'tuple'>\n"
     ]
    },
    {
     "data": {
      "text/plain": [
       "'The average score of the following values (45, 36, 36, 27, 25, 27, 30) is 32.29'"
      ]
     },
     "execution_count": 18,
     "metadata": {},
     "output_type": "execute_result"
    }
   ],
   "source": [
    "list_num = [45,36,36,27,25,27,30]\n",
    "average(*list_num)"
   ]
  },
  {
   "cell_type": "code",
   "execution_count": 20,
   "metadata": {},
   "outputs": [
    {
     "name": "stdout",
     "output_type": "stream",
     "text": [
      "<class 'dict'>\n",
      "Name::Ade\n",
      "Age::25\n",
      "Gender::Male\n"
     ]
    }
   ],
   "source": [
    "def records(**details):\n",
    "    print(type(details))\n",
    "    for key,value in details.items():\n",
    "        print(f'{key}::{value}')\n",
    "records(Name ='Ade',Age=25,Gender = \"Male\")        "
   ]
  },
  {
   "cell_type": "code",
   "execution_count": 21,
   "metadata": {},
   "outputs": [],
   "source": [
    "#Write a function to generate a random number and ask the user to guess , also write a condition to tell the user if the generated number is high or low "
   ]
  },
  {
   "cell_type": "code",
   "execution_count": 52,
   "metadata": {},
   "outputs": [
    {
     "name": "stdout",
     "output_type": "stream",
     "text": [
      "PLEASE GUESS THE CORRECT NUMBER BETWEEN 1 AND 20:15\n",
      "Guess is high\n",
      "PLEASE GUESS THE CORRECT NUMBER BETWEEN 1 AND 20:11\n",
      "Guess is high\n",
      "PLEASE GUESS THE CORRECT NUMBER BETWEEN 1 AND 20:8\n",
      "Congratulations you win\n"
     ]
    }
   ],
   "source": [
    "def guessing_game():\n",
    "    import random\n",
    "    correct_guess = random.randint(1,20)\n",
    "    guess_count = 0\n",
    "    guess_limit = 5\n",
    "    while guess_count <guess_limit:\n",
    "        guess = int(input('PLEASE GUESS THE CORRECT NUMBER BETWEEN 1 AND 20:'))\n",
    "        guess_count = guess_count+1\n",
    "        if guess > correct_guess:\n",
    "            print('Guess is high')\n",
    "        elif guess < correct_guess:\n",
    "            print('Guess is low')\n",
    "        elif guess==correct_guess:\n",
    "            print('Congratulations you win')\n",
    "            break\n",
    "    else:\n",
    "        print('Sorry you failed')\n",
    "guessing_game()    \n"
   ]
  },
  {
   "cell_type": "code",
   "execution_count": null,
   "metadata": {},
   "outputs": [],
   "source": []
  },
  {
   "cell_type": "code",
   "execution_count": null,
   "metadata": {},
   "outputs": [],
   "source": []
  }
 ],
 "metadata": {
  "kernelspec": {
   "display_name": "Python 3",
   "language": "python",
   "name": "python3"
  },
  "language_info": {
   "codemirror_mode": {
    "name": "ipython",
    "version": 3
   },
   "file_extension": ".py",
   "mimetype": "text/x-python",
   "name": "python",
   "nbconvert_exporter": "python",
   "pygments_lexer": "ipython3",
   "version": "3.7.3"
  }
 },
 "nbformat": 4,
 "nbformat_minor": 2
}
