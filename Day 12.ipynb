{
 "cells": [
  {
   "cell_type": "code",
   "execution_count": 2,
   "id": "ee81d2bd",
   "metadata": {},
   "outputs": [],
   "source": [
    "import pymysql"
   ]
  },
  {
   "cell_type": "code",
   "execution_count": null,
   "id": "f0d83412",
   "metadata": {},
   "outputs": [],
   "source": []
  },
  {
   "cell_type": "code",
   "execution_count": 6,
   "id": "e01db1a9",
   "metadata": {},
   "outputs": [],
   "source": [
    "mydb=pymysql.connect(\n",
    "host='localhost',\n",
    "user='root',\n",
    "password='Gem28zel'\n",
    ")\n",
    "mycursor=mydb.cursor()\n"
   ]
  },
  {
   "cell_type": "code",
   "execution_count": 3,
   "id": "a0a575a0",
   "metadata": {},
   "outputs": [],
   "source": [
    "sql = 'insert into staffrecords(id,StaffName,Staffgender,Staffdob,Staffphonenumber) values(%s,%s,%s,%s,%s)'\n",
    "values = [(1,'Jneat Lawal','Female','1909-05-12','08118302084'),\n",
    "          (2,'George Majesty' , 'Male','2006-03=7','08093353306'),\n",
    "          (3,'Bernard Prosper','Female','2006-28-11','08093355095'),\n",
    "          (4,'Ugwu Sanctus','Male','2006-5-3','08094458373'),\n",
    "          (5,'George Perfect','Male','20,08-13-10','09112323456'),\n",
    "          (6,'Ufegbu Daniella','Female','2005-09-1','08023345634'),\n",
    "          (7,'Queen Joy','Male','2004-03-23','08094485736')\n",
    "           ]"
   ]
  },
  {
   "cell_type": "code",
   "execution_count": null,
   "id": "4041cd22",
   "metadata": {},
   "outputs": [],
   "source": [
    "\n",
    "mycursor.execute('select * from staffrecords where staffgender = \"Male\"')\n",
    "for x in mycursor:\n",
    "    print(x)"
   ]
  },
  {
   "cell_type": "code",
   "execution_count": null,
   "id": "1e30beb8",
   "metadata": {},
   "outputs": [],
   "source": [
    "mycursor"
   ]
  },
  {
   "cell_type": "code",
   "execution_count": null,
   "id": "0a5331fb",
   "metadata": {},
   "outputs": [],
   "source": []
  }
 ],
 "metadata": {
  "kernelspec": {
   "display_name": "Python 3 (ipykernel)",
   "language": "python",
   "name": "python3"
  },
  "language_info": {
   "codemirror_mode": {
    "name": "ipython",
    "version": 3
   },
   "file_extension": ".py",
   "mimetype": "text/x-python",
   "name": "python",
   "nbconvert_exporter": "python",
   "pygments_lexer": "ipython3",
   "version": "3.9.12"
  }
 },
 "nbformat": 4,
 "nbformat_minor": 5
}
