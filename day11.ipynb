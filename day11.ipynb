{
 "cells": [
  {
   "cell_type": "code",
   "execution_count": 1,
   "id": "558de6a7",
   "metadata": {},
   "outputs": [],
   "source": [
    "import pymysql"
   ]
  },
  {
   "cell_type": "code",
   "execution_count": 2,
   "id": "955f6202",
   "metadata": {},
   "outputs": [],
   "source": [
    "mydb = pymysql.connect(\n",
    "host = 'localhost',\n",
    "user = 'root',\n",
    "password = 'Gem28zel'\n",
    ")\n",
    "mycursor = mydb.cursor()"
   ]
  },
  {
   "cell_type": "code",
   "execution_count": 3,
   "id": "95bd8c4b",
   "metadata": {},
   "outputs": [
    {
     "data": {
      "text/plain": [
       "1"
      ]
     },
     "execution_count": 3,
     "metadata": {},
     "output_type": "execute_result"
    }
   ],
   "source": [
    "mycursor.execute('create database greenwayschoolmanagementsystem')"
   ]
  },
  {
   "cell_type": "code",
   "execution_count": 8,
   "id": "b35f9708",
   "metadata": {},
   "outputs": [
    {
     "name": "stdout",
     "output_type": "stream",
     "text": [
      "('greenwayschoolmanagementsystem',)\n",
      "('information_schema',)\n",
      "('mysql',)\n",
      "('performance_schema',)\n",
      "('sakila',)\n",
      "('sys',)\n",
      "('world',)\n"
     ]
    }
   ],
   "source": [
    "mycursor.execute('show databases')\n",
    "for x in mycursor:\n",
    "    print(x)"
   ]
  },
  {
   "cell_type": "code",
   "execution_count": 11,
   "id": "e96d6165",
   "metadata": {},
   "outputs": [],
   "source": [
    "mydb = pymysql.connect(\n",
    "host = 'localhost',\n",
    "user = 'root',\n",
    "password = 'Gem28zel',\n",
    "database='greenwayschoolmanagementsystem'\n",
    ")\n",
    "mycursor = mydb.cursor()"
   ]
  },
  {
   "cell_type": "code",
   "execution_count": 12,
   "id": "8ab52738",
   "metadata": {},
   "outputs": [
    {
     "data": {
      "text/plain": [
       "0"
      ]
     },
     "execution_count": 12,
     "metadata": {},
     "output_type": "execute_result"
    }
   ],
   "source": [
    "mycursor.execute('show tables')"
   ]
  },
  {
   "cell_type": "code",
   "execution_count": 17,
   "id": "65576f21",
   "metadata": {},
   "outputs": [
    {
     "data": {
      "text/plain": [
       "0"
      ]
     },
     "execution_count": 17,
     "metadata": {},
     "output_type": "execute_result"
    }
   ],
   "source": [
    "mycursor.execute('create table staffdetails(id int not null primary key,staffName varchar(255) not null,staffgender varchar(10) not null,staffdob date not null)')"
   ]
  },
  {
   "cell_type": "code",
   "execution_count": null,
   "id": "be0df15b",
   "metadata": {},
   "outputs": [],
   "source": [
    "import random\n",
    "import datetime\n",
    "score = 0\n",
    "timetaken = 0\n",
    "counter = 1\n",
    "while counter <= 10:\n",
    "    num1 = random.randint(10,99)\n",
    "    num2 = ramdom.randint(10,99)\n",
    "    starttime = datetime.datetime.now()\n",
    "    answer = int(input(f'{num1}+{num2}='))\n",
    "    if answer == sum([num1,num2]):\n",
    "        score =+5\n",
    "    else:\n",
    "        score +=0\n",
    "    stoptime = datetime.datetime.now() \n",
    "    diff = stoptime - starttime\n",
    "    timetaken += diff.seconds\n",
    "    counter += 1\n",
    "print(f')    \n",
    "    "
   ]
  }
 ],
 "metadata": {
  "kernelspec": {
   "display_name": "Python 3 (ipykernel)",
   "language": "python",
   "name": "python3"
  },
  "language_info": {
   "codemirror_mode": {
    "name": "ipython",
    "version": 3
   },
   "file_extension": ".py",
   "mimetype": "text/x-python",
   "name": "python",
   "nbconvert_exporter": "python",
   "pygments_lexer": "ipython3",
   "version": "3.9.12"
  }
 },
 "nbformat": 4,
 "nbformat_minor": 5
}
