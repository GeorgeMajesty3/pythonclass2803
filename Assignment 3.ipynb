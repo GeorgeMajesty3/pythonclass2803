{
 "cells": [
  {
   "cell_type": "code",
   "execution_count": 1,
   "id": "f477826a",
   "metadata": {},
   "outputs": [
    {
     "name": "stdout",
     "output_type": "stream",
     "text": [
      "(55, 57, 47, 55, 55, 46, 50, 57, 53, 55, 50, 58, 51, 51, 49, 45, 55, 48, 45, 53, 46)\n"
     ]
    }
   ],
   "source": [
    "numbers=(46, 53, 45, 48, 55, 45, 49, 51, 51, 58, 50, 55, 53, 57, 50, 46, 55, 55, 47, 57, 55)\n",
    "reversed(numbers)\n",
    "print(tuple(reversed(numbers)))\n"
   ]
  },
  {
   "cell_type": "code",
   "execution_count": 2,
   "id": "3661ef2c",
   "metadata": {},
   "outputs": [
    {
     "name": "stdout",
     "output_type": "stream",
     "text": [
      "58\n"
     ]
    }
   ],
   "source": [
    "print(numbers[9])"
   ]
  },
  {
   "cell_type": "code",
   "execution_count": 3,
   "id": "a34c95cf",
   "metadata": {},
   "outputs": [
    {
     "data": {
      "text/plain": [
       "5"
      ]
     },
     "execution_count": 3,
     "metadata": {},
     "output_type": "execute_result"
    }
   ],
   "source": [
    "numbers.count(55)"
   ]
  },
  {
   "cell_type": "code",
   "execution_count": 4,
   "id": "c8063925",
   "metadata": {},
   "outputs": [
    {
     "name": "stdout",
     "output_type": "stream",
     "text": [
      "(46, 53, 45, 48, 55, 45, 51, 51, 58, 50, 55, 53, 50, 46, 55, 55, 47, 57, 55)\n"
     ]
    }
   ],
   "source": [
    "list=list(numbers)\n",
    "list.remove(49)\n",
    "list.remove(57)\n",
    "numbers=tuple(list)\n",
    "print(numbers)"
   ]
  },
  {
   "cell_type": "code",
   "execution_count": 9,
   "id": "e1c53b27",
   "metadata": {},
   "outputs": [
    {
     "ename": "NameError",
     "evalue": "name 'numbers' is not defined",
     "output_type": "error",
     "traceback": [
      "\u001b[1;31m---------------------------------------------------------------------------\u001b[0m",
      "\u001b[1;31mNameError\u001b[0m                                 Traceback (most recent call last)",
      "Input \u001b[1;32mIn [9]\u001b[0m, in \u001b[0;36m<cell line: 1>\u001b[1;34m()\u001b[0m\n\u001b[1;32m----> 1\u001b[0m \u001b[38;5;28mprint\u001b[39m(\u001b[43mnumbers\u001b[49m[\u001b[38;5;241m9\u001b[39m])\n",
      "\u001b[1;31mNameError\u001b[0m: name 'numbers' is not defined"
     ]
    }
   ],
   "source": [
    "print(numbers[9])"
   ]
  },
  {
   "cell_type": "raw",
   "id": "b08b9054",
   "metadata": {},
   "source": []
  },
  {
   "cell_type": "code",
   "execution_count": 5,
   "id": "dc5acdfc",
   "metadata": {},
   "outputs": [
    {
     "name": "stdout",
     "output_type": "stream",
     "text": [
      "19\n"
     ]
    }
   ],
   "source": [
    "print(len(numbers))"
   ]
  },
  {
   "cell_type": "code",
   "execution_count": 6,
   "id": "79733de0",
   "metadata": {},
   "outputs": [
    {
     "name": "stdout",
     "output_type": "stream",
     "text": [
      "[55, 57, 47, 55, 55, 46, 50, 57, 53, 55, 50, 58, 51, 51, 49, 45, 55, 48, 45, 53, 46]\n"
     ]
    }
   ],
   "source": [
    "figures=[46, 53, 45, 48, 55, 45, 49, 51, 51, 58, 50, 55, 53, 57, 50, 46, 55, 55, 47, 57, 55]\n",
    "figures.reverse()\n",
    "print(figures)"
   ]
  },
  {
   "cell_type": "code",
   "execution_count": 7,
   "id": "e5dafd8a",
   "metadata": {},
   "outputs": [
    {
     "name": "stdout",
     "output_type": "stream",
     "text": [
      "51\n"
     ]
    }
   ],
   "source": [
    "figures.reverse()\n",
    "print(figures[8])"
   ]
  },
  {
   "cell_type": "code",
   "execution_count": 8,
   "id": "f4fcdb2c",
   "metadata": {},
   "outputs": [
    {
     "name": "stdout",
     "output_type": "stream",
     "text": [
      "[46, 53, 45, 48, 55, 45, 51, 51, 58, 50, 55, 53, 50, 46, 55, 55, 47, 57, 55]\n"
     ]
    }
   ],
   "source": [
    "figures.remove(49)\n",
    "figures.remove(57)\n",
    "print(figures)"
   ]
  },
  {
   "cell_type": "code",
   "execution_count": 5,
   "id": "8655d8dc",
   "metadata": {},
   "outputs": [
    {
     "ename": "TypeError",
     "evalue": "descriptor 'extend' for 'list' objects doesn't apply to a 'int' object",
     "output_type": "error",
     "traceback": [
      "\u001b[1;31m---------------------------------------------------------------------------\u001b[0m",
      "\u001b[1;31mTypeError\u001b[0m                                 Traceback (most recent call last)",
      "Input \u001b[1;32mIn [5]\u001b[0m, in \u001b[0;36m<cell line: 1>\u001b[1;34m()\u001b[0m\n\u001b[1;32m----> 1\u001b[0m \u001b[38;5;28;43mlist\u001b[39;49m\u001b[38;5;241;43m.\u001b[39;49m\u001b[43mextend\u001b[49m\u001b[43m(\u001b[49m\u001b[38;5;241;43m3\u001b[39;49m\u001b[43m,\u001b[49m\u001b[38;5;241;43m20\u001b[39;49m\u001b[43m)\u001b[49m\n\u001b[0;32m      2\u001b[0m \u001b[38;5;28mprint\u001b[39m(\u001b[38;5;28mlist\u001b[39m)\n",
      "\u001b[1;31mTypeError\u001b[0m: descriptor 'extend' for 'list' objects doesn't apply to a 'int' object"
     ]
    }
   ],
   "source": [
    "list.(3,20)\n",
    "print(list)"
   ]
  },
  {
   "cell_type": "code",
   "execution_count": 10,
   "id": "eaee3325",
   "metadata": {},
   "outputs": [
    {
     "name": "stdout",
     "output_type": "stream",
     "text": [
      "[46, 53, 45, 48, 55, 45, 69, 51, 51, 58, 50, 55, 53, 50, 46, 55, 55, 47, 57, 55, 89, 85, 36, 95, 45, 78]\n"
     ]
    }
   ],
   "source": [
    "extension=[89,85,36,95,45,78] \n",
    "figures.extend(extension)\n",
    "print(figures)"
   ]
  },
  {
   "cell_type": "code",
   "execution_count": 1,
   "id": "38ac7b96",
   "metadata": {},
   "outputs": [
    {
     "ename": "SyntaxError",
     "evalue": "invalid syntax (3233820587.py, line 1)",
     "output_type": "error",
     "traceback": [
      "\u001b[1;36m  Input \u001b[1;32mIn [1]\u001b[1;36m\u001b[0m\n\u001b[1;33m    Chelsea={\"location\":\"London\",\"managersname\":\"Greg\",\"clubcaptain\":\"Pulisic\",\"networth\":2000,\"clubformation\":4,3,3}\u001b[0m\n\u001b[1;37m                                                                                                                  ^\u001b[0m\n\u001b[1;31mSyntaxError\u001b[0m\u001b[1;31m:\u001b[0m invalid syntax\n"
     ]
    }
   ],
   "source": [
    "Football_clubs={\n",
    "    'location':['London','Liverpool','Manchester', 'Manchester','London', ]\n",
    "    \n",
    "}\n",
    "\n",
    "\n",
    "\n",
    "\n",
    "\n",
    "\n",
    "\n",
    "\n",
    "\n",
    "\n",
    "\n",
    "\n",
    "\n",
    "\n",
    "\n",
    "chelsea={\"location\":\"London\",\"managersname\":\"Greg\",\"clubcaptain\":\"Pulisic\",\"networth\":2000,\"clubformation\":4,3,3}\n",
    "Liverpool={\"location\":\"Liverpool\",\"managersname\":\"Tom\",\"clubcaptain\":\"Salah\",\"networth\":3000,\"clubformation\":4,2,4}\n",
    "Man_city={\"location\":\"Manchester\",\"managersname\":\"Pep\",\"clubcaptain\":\"Bruyne\",\"networth\":5000,\"clubformation\":4,3,3}\n",
    "Man_united={\"location\":\"Manchester\",\"managersname\":\"Xavi\",\"clubcaptain\":\"Bernando\",\"networth\":4000,\"clubformation\":4,3,3}\n",
    "Everton={\"location\":\"London\",\"managersname\":\"Mandro\",\"clubcaptain\":\"Mane\",\"networth\":900,\"clubformation\":3,5,2}\n",
    "Real_madrid={\"location\":\"Spain\",\"managersname\":\"Sandor\",\"clubcaptain\":\"Benzema\",\"networth\":30000,\"clubformation\":4,3,3}\n",
    "Barcelona={\"location\":\"Spain\",\"manCagersname\":\"Xavin\",\"clubcaptain\":\"Ansu\",\"networth\":15000,\"clubformation\":4,3,3}\n",
    "Inter_milan={\"location\":\"Italy\",\"managersname\":\"Pedro\",\"clubcaptain\"':\"Zlatan\",\"networth\":20000,\"clubformation\":4,3,3}\n",
    "Athletico_madrid={\"location\":\"Spain\",\"managersname\":\"Binme\",\"clubcaptain\":\"Mernof\",\"networth\":6000,\"clubformation\":4,3,3}\n",
    "Fc_Porto={\"location\":\"Portugal\",\"managersname\":\"Bandit\",\"clubcaptain\":\"Pordet\",\"networth\":800,\"clubformation\":3,5,2"
   ]
  },
  {
   "cell_type": "code",
   "execution_count": null,
   "id": "62001655",
   "metadata": {},
   "outputs": [],
   "source": []
  }
 ],
 "metadata": {
  "kernelspec": {
   "display_name": "Python 3 (ipykernel)",
   "language": "python",
   "name": "python3"
  },
  "language_info": {
   "codemirror_mode": {
    "name": "ipython",
    "version": 3
   },
   "file_extension": ".py",
   "mimetype": "text/x-python",
   "name": "python",
   "nbconvert_exporter": "python",
   "pygments_lexer": "ipython3",
   "version": "3.9.12"
  }
 },
 "nbformat": 4,
 "nbformat_minor": 5
}
