{
 "cells": [
  {
   "cell_type": "code",
   "execution_count": 8,
   "id": "1a7e20b0",
   "metadata": {},
   "outputs": [
    {
     "name": "stdout",
     "output_type": "stream",
     "text": [
      "MY NAME IS JAMES\n"
     ]
    }
   ],
   "source": [
    "word = \"MY NAME IS JAMES\"\n",
    "print(word)"
   ]
  },
  {
   "cell_type": "code",
   "execution_count": 10,
   "id": "5ce6f384",
   "metadata": {},
   "outputs": [
    {
     "name": "stdout",
     "output_type": "stream",
     "text": [
      "I'm from a well known village with good culture in kogi state\n"
     ]
    }
   ],
   "source": [
    "state = 'I\\'m from a well known village with good culture in kogi state'\n",
    "print(state)"
   ]
  },
  {
   "cell_type": "code",
   "execution_count": 1,
   "id": "4e2354bd",
   "metadata": {},
   "outputs": [
    {
     "name": "stdout",
     "output_type": "stream",
     "text": [
      "I have 1000 dollars so i can buy 3 footbals for 450 dollars\n"
     ]
    }
   ],
   "source": [
    "total_money = 1000\n",
    "quantity = 3\n",
    "price = 450\n",
    "sales_requirement = ('I have {} dollars so i can buy {} footbals for {} dollars')\n",
    "print(sales_requirement.format(total_money,quantity,price))\n"
   ]
  },
  {
   "cell_type": "code",
   "execution_count": 12,
   "id": "491c6355",
   "metadata": {},
   "outputs": [
    {
     "name": "stdout",
     "output_type": "stream",
     "text": [
      "TIME DOESNT HEAL WOUNDS TO MAKE U FORGET\n",
      "IT DOESNT HEAL WOUNDS TO ERASE THE MEMORIES\n",
      "TIME LEAVES YOU WITH A SCAR\n",
      " TO REMIND REMIND OF HOW YOU FOUGHT THROUGH IT\n",
      "TIME LEAVES U WITH A SCAR TO REMIND YOU OF HOW U BLED \n",
      "AND HOW YOU SURVIVED\n",
      "YOU SURVIVED\n"
     ]
    }
   ],
   "source": [
    "poem = 'Time doesnt heal wounds to make u forget\\nIt doesnt heal wounds to erase the memories\\nTime leaves you with a scar\\n to remind remind of how you fought through it\\nTime leaves u with a scar to remind you of how u bled \\nand how you survived\\nYOU SURVIVED'\n",
    "print(poem.upper())"
   ]
  },
  {
   "cell_type": "code",
   "execution_count": null,
   "id": "c22d8886",
   "metadata": {},
   "outputs": [],
   "source": []
  }
 ],
 "metadata": {
  "kernelspec": {
   "display_name": "Python 3 (ipykernel)",
   "language": "python",
   "name": "python3"
  },
  "language_info": {
   "codemirror_mode": {
    "name": "ipython",
    "version": 3
   },
   "file_extension": ".py",
   "mimetype": "text/x-python",
   "name": "python",
   "nbconvert_exporter": "python",
   "pygments_lexer": "ipython3",
   "version": "3.9.12"
  }
 },
 "nbformat": 4,
 "nbformat_minor": 5
}
